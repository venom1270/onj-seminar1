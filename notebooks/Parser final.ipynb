{
 "cells": [
  {
   "cell_type": "markdown",
   "metadata": {},
   "source": [
    "# Parser FINAL"
   ]
  },
  {
   "cell_type": "markdown",
   "metadata": {},
   "source": [
    "Importamo potrebne knjižnice."
   ]
  },
  {
   "cell_type": "code",
   "execution_count": null,
   "metadata": {
    "collapsed": true
   },
   "outputs": [],
   "source": [
    "import nltk\n",
    "from urllib.request import urlopen\n",
    "from bs4 import BeautifulSoup\n",
    "from selenium import webdriver\n",
    "import time"
   ]
  },
  {
   "cell_type": "markdown",
   "metadata": {},
   "source": [
    "Spodaj je funkcija, ki prejme url in vrne sprasan naslov, telo in komentarje novice."
   ]
  },
  {
   "cell_type": "code",
   "execution_count": null,
   "metadata": {
    "collapsed": true
   },
   "outputs": [],
   "source": [
    "def parse_url(url):\n",
    "    try:\n",
    "        driver = webdriver.Chrome('..\\\\webdriver\\\\chromedriver.exe')\n",
    "        driver.get(url)\n",
    "        button = driver.find_element_by_class_name('comment-show-hide')\n",
    "        #webdriver.ActionChains(driver).move_to_element(button).click(button).perform()\n",
    "        driver.execute_script(\"window.scrollTo(0, document.body.scrollHeight);\")\n",
    "        button.click()\n",
    "        time.sleep(1)\n",
    "        html = driver.execute_script(\"return document.getElementsByTagName('html')[0].innerHTML\")\n",
    "        #html = driver.page_source\n",
    "        #print(html)\n",
    "        driver.close()\n",
    "        \n",
    "        soup = BeautifulSoup(html, 'html.parser')\n",
    "        newsContents = soup.find_all(\"div\", id=\"newsbody\")[0].find_all(\"p\")\n",
    "        parsed = \"\"\n",
    "        \n",
    "        #print(html)\n",
    "        \n",
    "        comments = soup.find_all(\"div\", class_=\"newscomments\")[0].find_all(\"dt\", class_=\"ds2\")\n",
    "        #print(\"QWE: \" + comments.get_text())\n",
    "        for p in newsContents: \n",
    "            parsed += p.get_text() + \" \"\n",
    "        title = soup.find_all(\"h1\")[0].get_text()\n",
    "        parsed_comments = [c.get_text() for c in comments]\n",
    "        return parsed, title, parsed_comments\n",
    "    except:\n",
    "        print(\"Error url: \" + url)\n",
    "        return \"\", \"\", \"\""
   ]
  },
  {
   "cell_type": "markdown",
   "metadata": {},
   "source": [
    "Test klica funkcije."
   ]
  },
  {
   "cell_type": "code",
   "execution_count": null,
   "metadata": {
    "collapsed": true,
    "scrolled": true
   },
   "outputs": [],
   "source": [
    "parse_url(\"http://www.rtvslo.si/svet/bliznji-vzhod/smrt-ameriki-iranci-protestirajo-proti-novim-sankcijam/470795\")"
   ]
  },
  {
   "cell_type": "markdown",
   "metadata": {},
   "source": [
    "Naredimo še funkcijo, ki s pomočjo Rtvslo iskalnika vrne vse povezave do najdenih novic."
   ]
  },
  {
   "cell_type": "code",
   "execution_count": null,
   "metadata": {
    "collapsed": true
   },
   "outputs": [],
   "source": [
    "def get_urls(query, num_of_pages=1):\n",
    "    urls = []\n",
    "    for i in range(num_of_pages):\n",
    "        html = urlopen(\"http://www.rtvslo.si/iskalnik?q=\" + query + \"&page=\" + str(i)).read() \n",
    "        soup = BeautifulSoup(html, 'html.parser')\n",
    "        for news in soup.find_all(\"div\", class_=\"stitle\"):\n",
    "            urls.append(\"http://www.rtvslo.si\" + news.a[\"href\"])\n",
    "    return urls"
   ]
  },
  {
   "cell_type": "code",
   "execution_count": null,
   "metadata": {
    "collapsed": true
   },
   "outputs": [],
   "source": [
    "get_urls(\"trump\", 2)"
   ]
  },
  {
   "cell_type": "markdown",
   "metadata": {},
   "source": [
    "Definiramo seznam novic, ki bi jih radi sparsali.\n",
    "\n",
    "Za vsako novico kličemo prvo metodo."
   ]
  },
  {
   "cell_type": "code",
   "execution_count": null,
   "metadata": {
    "collapsed": true,
    "scrolled": false
   },
   "outputs": [],
   "source": [
    "urls = get_urls(\"trump\", 2)\n",
    "parsed_news = []\n",
    "for url in urls:\n",
    "    parsed, title, comments = parse_url(url)\n",
    "    if parsed != \"\":\n",
    "        parsed_news.append((title, parsed, comments))\n",
    "parsed_news"
   ]
  },
  {
   "cell_type": "markdown",
   "metadata": {},
   "source": [
    "Zapišemo v datoteko."
   ]
  },
  {
   "cell_type": "code",
   "execution_count": null,
   "metadata": {
    "collapsed": true
   },
   "outputs": [],
   "source": [
    "def write_to_file():\n",
    "    f = open(\"../data/novice.txt\", \"w\", encoding=\"utf-8\")\n",
    "    for title, parsed, comments in parsed_news:\n",
    "        f.write(title + \"\\n\")\n",
    "        f.write(parsed + \"\\n\")\n",
    "        for c in comments:\n",
    "            f.write(c.replace(\"\\n\", \" \") + \"\\n\")\n",
    "        f.write(\"\\n\")"
   ]
  },
  {
   "cell_type": "code",
   "execution_count": null,
   "metadata": {
    "collapsed": true
   },
   "outputs": [],
   "source": [
    "write_to_file()"
   ]
  }
 ],
 "metadata": {
  "kernelspec": {
   "display_name": "Python 3",
   "language": "python",
   "name": "python3"
  },
  "language_info": {
   "codemirror_mode": {
    "name": "ipython",
    "version": 3
   },
   "file_extension": ".py",
   "mimetype": "text/x-python",
   "name": "python",
   "nbconvert_exporter": "python",
   "pygments_lexer": "ipython3",
   "version": "3.6.2"
  }
 },
 "nbformat": 4,
 "nbformat_minor": 2
}
