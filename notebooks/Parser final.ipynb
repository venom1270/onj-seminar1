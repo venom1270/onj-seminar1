{
 "cells": [
  {
   "cell_type": "markdown",
   "metadata": {},
   "source": [
    "# Parser FINAL"
   ]
  },
  {
   "cell_type": "markdown",
   "metadata": {},
   "source": [
    "Importamo potrebne knjižnice."
   ]
  },
  {
   "cell_type": "code",
   "execution_count": 1,
   "metadata": {
    "collapsed": true
   },
   "outputs": [],
   "source": [
    "import nltk\n",
    "from urllib.request import urlopen\n",
    "from bs4 import BeautifulSoup\n",
    "from selenium import webdriver\n",
    "import time"
   ]
  },
  {
   "cell_type": "markdown",
   "metadata": {},
   "source": [
    "Spodaj je funkcija, ki prejme url in vrne sprasan naslov, telo in komentarje novice."
   ]
  },
  {
   "cell_type": "code",
   "execution_count": 2,
   "metadata": {
    "collapsed": true
   },
   "outputs": [],
   "source": [
    "def parse_url(url):\n",
    "    try:\n",
    "        driver = webdriver.Chrome('..\\\\webdriver\\\\chromedriver.exe')\n",
    "        driver.get(url)\n",
    "        button = driver.find_element_by_class_name('comment-show-hide')\n",
    "        #webdriver.ActionChains(driver).move_to_element(button).click(button).perform()\n",
    "        driver.execute_script(\"window.scrollTo(0, document.body.scrollHeight);\")\n",
    "        button.click()\n",
    "        time.sleep(1)\n",
    "        html = driver.execute_script(\"return document.getElementsByTagName('html')[0].innerHTML\")\n",
    "        #html = driver.page_source\n",
    "        #print(html)\n",
    "        driver.close()\n",
    "        \n",
    "        soup = BeautifulSoup(html, 'html.parser')\n",
    "        newsContents = soup.find_all(\"div\", id=\"newsbody\")[0].find_all(\"p\")\n",
    "        parsed = \"\"\n",
    "        \n",
    "        #print(html)\n",
    "        \n",
    "        comments = soup.find_all(\"div\", class_=\"newscomments\")[0].find_all(\"dt\", class_=\"ds2\")\n",
    "        #print(\"QWE: \" + comments.get_text())\n",
    "        for p in newsContents: \n",
    "            parsed += p.get_text() + \" \"\n",
    "        title = soup.find_all(\"h1\")[0].get_text()\n",
    "        parsed_comments = [c.get_text() for c in comments]\n",
    "        return parsed, title, parsed_comments\n",
    "    except:\n",
    "        print(\"Error url: \" + url)\n",
    "        return \"\", \"\", \"\""
   ]
  },
  {
   "cell_type": "markdown",
   "metadata": {},
   "source": [
    "Test klica funkcije."
   ]
  },
  {
   "cell_type": "code",
   "execution_count": null,
   "metadata": {
    "collapsed": true,
    "scrolled": true
   },
   "outputs": [],
   "source": [
    "parse_url(\"http://www.rtvslo.si/svet/bliznji-vzhod/smrt-ameriki-iranci-protestirajo-proti-novim-sankcijam/470795\")"
   ]
  },
  {
   "cell_type": "markdown",
   "metadata": {},
   "source": [
    "Naredimo še funkcijo, ki s pomočjo Rtvslo iskalnika vrne vse povezave do najdenih novic."
   ]
  },
  {
   "cell_type": "code",
   "execution_count": 3,
   "metadata": {
    "collapsed": true
   },
   "outputs": [],
   "source": [
    "def get_urls(query, num_of_pages=1):\n",
    "    urls = []\n",
    "    for i in range(num_of_pages):\n",
    "        html = urlopen(\"http://www.rtvslo.si/iskalnik?q=\" + query + \"&page=\" + str(i)).read() \n",
    "        soup = BeautifulSoup(html, 'html.parser')\n",
    "        for news in soup.find_all(\"div\", class_=\"stitle\"):\n",
    "            urls.append(\"http://www.rtvslo.si\" + news.a[\"href\"])\n",
    "    return urls"
   ]
  },
  {
   "cell_type": "code",
   "execution_count": null,
   "metadata": {
    "collapsed": true
   },
   "outputs": [],
   "source": [
    "get_urls(\"trump\", 2)"
   ]
  },
  {
   "cell_type": "markdown",
   "metadata": {},
   "source": [
    "Definiramo seznam novic, ki bi jih radi sparsali.\n",
    "\n",
    "Za vsako novico kličemo prvo metodo."
   ]
  },
  {
   "cell_type": "code",
   "execution_count": 13,
   "metadata": {
    "scrolled": false
   },
   "outputs": [
    {
     "name": "stdout",
     "output_type": "stream",
     "text": [
      "Error url: http://www.rtvslo.si/news-in-english/doncic-i-can-t-believe-i-m-in-the-same-team-with-the-legendary-nowitzki/466709\n",
      "Error url: http://www.rtvslo.si/radio-si/news/doncic-to-go-to-dallas/458736\n",
      "Error url: http://www.rtvslo.si/news-in-english/king-luka-conquers-basketball-europe/455637\n",
      "Error url: http://www.rtvslo.si/news-in-english/from-istanbul-to-belgrade-doncic-only-one-more-victory-away-from-perfect-season/455502\n",
      "Error url: http://www.rtvslo.si/news-in-english/no-mvp-titles-for-doncic-without-wins-for-real/440253\n",
      "Error url: http://www.rtvslo.si/news-in-english/photo-luka-doncic-s-heart-beats-for-slovenia-and-his-beautiful-anamarija/432690\n",
      "Error url: http://www.rtvslo.si/zabava/druzabna-kronika/foto-srce-luke-doncica-bije-za-slovenijo-in-za-lepo-anamarijo/432675\n",
      "Error url: http://www.rtvslo.si/news-in-english/basketball-sharp-shooting-slovenia-shock-spain-in-eurobasket-semi/432597\n"
     ]
    },
    {
     "data": {
      "text/plain": [
       "[('Dončić po desetini sezone: ali pri Teličkih manjka predvsem kemija?',\n",
       "  'Jesenska priljubljena tema športnih pogovorov so krstne tekme Luka Dončića v Ligi NBA. Presežnikov in razprav ne manjka, kar je pripeljalo do 5. oddaje podkasta SOS-odmev, kjer je LD77 osrednja tema pogovora. Za boljši strokovni uvid je svoje misli prispeval MMC-jev specialist za košarko Tilen Jamnik, ki že leta podrobno spremlja kariero Luke Dončića in dobro pozna tudi razmišljanje ter delovanje Lige NBA. Družbo je delal obema gostiteljema podkasta SOS-odmev Slavku Jeriču in Toniju Grudnu.  Naročite se na podkast SOS-odmev! Z menjavo očitno zadela oba klubaKoliko je vreden MVP Evrolige? Očitno toliko kot najboljši strelec in podajalec študentske lige NCAA ter še dodatni igralec, toliko je namreč bila vrednost menjave med Atlanto in Dallasom, ki sta si ob poletnem izboru Lige NBA ekspresno medsebojno zamenjala dva izredno nadarjena košarkarja. To sta Trae Young in Luka Dončić. \"Vidi se, kako si je Dallas res želel Luko Dončića. Mavs so se pri tem odpovedali prihodnjemu izboru, tako da v primeru slabe sezone Teksašanov, bi Atlanta lahko še enkrat hitro izbirala. Atlanta je po odhodu Dennisa Schröderja potrebovala igralca, kot je Trae Young. Zagotovo je lahko menjava win-win za oba kluba,\" je Jamnik v luči prvih dobrih predstav obeh novincev ocenil menjavo, ki bo v severnoameriškem slogu v preostali NBA-karieri vedno družila omenjena igralca. Dončić je začel udarno in po desetini rednega dela lovi kar nekaj statističnih dosežkov. V prvi vrsti, da preseže Pauja Gasola in njegovih 17,6 točke/tekmo iz njegove krstne sezone, kar je rekord med Evropejci. Sočasno je Dallasova številka 77 blizu povprečju LeBrona Jamesa, ko je bil on sam novinec. A hkrati je mladi Slovenec s 4 izgubljenimi žogami na tekmo tudi pri vrhu neslavne lestvice potrošnikov žog. Prvih 10 tekem že napoved nadaljevanja sezone?Ali je po 10 tekmah sezone že napočil čas za prave analize in napovedi, kako se bo odvijala krstna sezona najstniškega čudežnega otroka iz Ljubljane? \"Desetina (ali osmina) je bila premalo že v fevdalnih časih, so govorili posestniki zemlje. Sam sem doma v Ligi NHL, ki ima zelo podobno strukturo, predvsem enakih 82 tekem rednega dela. In sam prave analize, zaključke upoštevam šele po četrtini sezone,\" je Gruden izpostavil, da se je sezona vseeno komaj dobro začela. Vseeno so uvodne številke impresivne, predvsem število točk je nad pričakovanji, po drugi strani pa so ljubitelji evropske košarke, kjer je Dončić tako v klubskem dresu Reala Madrid kot reprezentančnem Slovenije pokoril staro celino, pričakovali več asistenc. Več točk od pričakovanj, a tudi kakšna podaja manj\"Sam sem tudi pričakoval več podaj. Pet ali šest v povprečju. A še vedno je le desetina sezone. Neuigranost zagotovo. DeAndre Jordan in Dončić sta nova igralca, ki sta zdaj nosilca Dallasove igre. Ob tem Dallas zagotovo ni bil naključno slab in je imel najslabšo sezono, odkar je v klubu lastnik Mike Cuban. Luka se je na neki način vseeno že spremenil, saj je postal bolj sebičen, vzame si več metov kot v Evropi, veliko več, ne nazadnje se takšna košarka tam igra. Ob intervjuju z Nevenom Spahijo, ko je bil pomočnik v Atlanti, je takratni pomočnik Hawksov izpostavil, da v NBA-ju pride do izraza čisti talent. In Luka kot eden največjih evropskih talentov do zdaj je že postal boljši strelec,\" je Jamnik poudaril, da je ob prehodu iz Evrolige/ACB-ja v NBA že zaznati spremembo v slogu Dončićeve igre. Dva potezi, ki jih navijači niso spregledaliIzpostavljeno je bilo vprašanje kemije, saj se na navijaško obarvanih blogih in med komentarji pojavljajo ter izpostavljajo zapisi, ali ne prihaja do zapostavljanja Dončića pri veteranih. A ne samo navijače, temveč tudi novinarje, ki vsakodnevno spremljajo Mavericks sta zmotili dve potezi, ki sta obkrožili košarkarsko obarvani splet. Po zadeti trojki na teksaškem derbiju s Spursi je Dončić zabrusil soigralcu Harrisonu Barnesu: \"Daj mi prekleto žogo!\" I hope the Mavs\\' next film session is just 10 straight hrs of this clip of Luka saying \"give me the f**king ball\" after hitting a 3 pic.twitter.com/Tx2Kj2bAn0 Na tekmi z New York Knicksi je bil po hitro vrženi trojki gostov Dončić sam pod košem in v položaju, da mirno pobere žogo, a je priletel soigralec DeAndre Jordan, mu skočil čez hrbet in ukradel skok. Sam Luka je zavil z očmi proti klopi, pod košem pa se je vidno močno razburil lastnik Cuban, na koncu tekme pa je Dončiću ravno ta skok manjkal do prvega dvojnega dvojčka. Mark Cuban’s reaction to Deandre Jordan taking Luka Doncic’s rebound... pic.twitter.com/qzK0O21cXg Dallas brez končnice, boj za novinca leta bo osterSeveda v pestri razpravi o začetku Dončićeve NBA-jevske kariere ni šlo brez dveh vprašanj, ki si jih zastavljajo slovenski košarkarski navdušenci. Ali bo Luka Dončić ob koncu sezone razglašen za najnovinca sezone? Ali se je Dallas sploh sposoben uvrstiti v končnico? Na drugo vprašanje je bila trojica Jamnik, Jerič in Gruden enotna za sklep, da se Dallas v močnejši Zahodni konferenci v sezoni 2018/19 ne more prebiti med prvo osmerico in udeležence končnice. Vprašanje novinca leta je bilo bolj pereče in je prineslo izkupiček 1-1-1. Miami je Dragićevo moštvoZakaj kdo razmišlja, da Dončić lahko ali pa v močni konkurenci novincev (glej Infografiko za primerjavo izpostavljene peterice) ne more postati ROTY, prisluhnite v 5. oddaji SOS-odmev, v kateri je bil govor tudi o Wiltu Chamberlainu, linearni rasti meta za tri točke. Svoj delež pogovora si je seveda prislužil Goran Dragić, ki blesti v dresu Miamija. Heat je veliko konkurenčnejši za končnico, a hkrati obremenjen z najvišjim proračunom za plače v celotni Ligi NBA, zaradi česar ostaja na mizi tudi možnost, da vodstvo zamenja Dragića za koga drugega. Za piko na i sledi še kratek krog prvih misli o projektu nogometne evropske Superlige, ki ga razkriva Football Leaks. Vabljeni k poslušanju (kliknite na spodnjo sliko)!  ',\n",
       "  ['zgleda bo letos ze spet ben simmons ROTY',\n",
       "   'Najboljši med novinci . . .\\nBravo Luka le tako naprej . . .',\n",
       "   'Plače za naslednje leto pri Dallasu.\\nFani predvidevajo da je problem v kemiji, ker je 80% igralcev brez pogodb za naslednjo leto in se hočejo čim bolje prodati.\\n\\nIMO pri Miamiju ni pogojev o menjavi Dragiča. Če kdo bremeni proračun sta to HW in TJ. Cris Bosh se ne šteje v salary cap, GSW in OKC sta na 145 mio, Mia je na 130 mio.',\n",
       "   'kaj je pa šel v cirkus nastopat....',\n",
       "   'Najboljše novince dobijo najslabši klubi. Zato se ni za čuditi, da bo Dallas še naprej zgubljal.',\n",
       "   'pa kakšna kemija.  V NBA ni nobene kemije, vse se igra za show  in Dončič bo to kmalu razumel in se prilagodil temu.  Tisti odriv je bila kar poučna šola,  in ne misliti da so v slačilnici kakšni prijatelji in klapa kot v evropi  To je drug svet',\n",
       "   'Lepo vas prosim! Milo vas prosim! NEHAJTE ŽE ENKRAT S TEMI TELIČKI!!!!!!! Sicer se vam bo zgodilo, da boste sami postali TELETA!',\n",
       "   'Se vidi na več posnetkih, da ga prezirajo in se \"visoko\" držijo...',\n",
       "   '\"Mavs so se pri tem odpovedali prihodnjemu izboru, tako da v primeru slabe sezone Teksašanov, bi Atlanta lahko še enkrat hitro izbirala. Atlanta je po odhodu Dennisa Schröderja potrebovala igralca, kot je Trae Young. Zagotovo je lahko menjava win-win za oba kluba,\"\\n\\nen popravek - pick je top5 protected tako da v primeru, da Mavsi izbirajo od 1 do 5 jim pick ostane. pick se prestavi v naslednja leta, 2021 je top3 protected, 2022 je nezavarovan...\\n\\niz ESPNa: \"Dallas also sent a protected 2019 first-round pick to Atlanta. The pick is top-five protected the next two years, top-three protected in 2021 and \\'22 and unprotected the following year, according to Mavs president of basketball operations Donnie Nelson.\"',\n",
       "   'šešerko, lih za show rabis kemijo. A misls, da so v evropi prijatelji? Mogocna kaksna ekipa, drugac je povsod isto. A mislis, da v evropi ne igrajo za denar. V kaksnem svetu eni zivite, edina razlika med NBA in evropo je, da je v NBAju vec denarja, in posledicno igrajo bolj kvalitetni igralci. Sezona je bolj naporna, zato se igralci sparajo za koncnico. To fantaziranje o evroligi, zgolj zato ker je evropska je ze prav smesno. V evroligi igras le zato, ker si preslab za NBA.',\n",
       "   'Lahko bi igrali 1 na 1. Brez prekrškov. Komplicirajo brez veze. Itak si to očitno tam vsi želijo....',\n",
       "   'kakšna kemija,kvalitete ni.že prva peterka je povprečna,klopi pa sploh ni.\\nluka se bo kmalu naveličal te zgubarske mentalitete,saj je navajen lovorik',\n",
       "   'Prekletstvo slabih ekip, ki ima enega dobrega igralca. Vsak igralec se bori za čim boljšo pogodbo, saj se zaveda, da bo lahko vsak trenutek trejdan.',\n",
       "   'na posnetku je ful razvidno ja, kako zavije z očmi.. kaj jih ima na zadnjem delu glave (oči)?',\n",
       "   'Doncic ima krepko najvisjo minutazo trenutno od vseh ostalih. Ne vemo kaj bi se zgodilo,ce bi Young recimo igral tiste 4 minute  vec......morda bi dosegel 2,5,8 tock vec......\\n\\nDrugace pa mislim,da bo na koncu odlocal uspeh ekipe na lestvici in pa velik delez drzavljanstvo.....patritizem.\\n\\nTako,da tu dajem prednost Aytonu in Youngu....\\nKdo ve....morda bo pa ROY kar Simmons,ki ima krepko boljso statistiko oziroma bolj raznovrstno kot ostali.:)))))',\n",
       "   'clutch\\n\\nočitno se ne spoznaš najbolj na košarko.  Evropska je igrana na timskem konceptu, tudi trenerji uigravajo celotno ekipo, samo poglej koliko akcij imajo naučenih in pri Obradoviču vsi taki solerji izpadejo takoj.   V NBA pa se igra za gledalce s kokicami kdo da lepši koš in konči rezultat niti ni pomemben',\n",
       "   'Ocitno avtor ne ve kaj so zavarovani izbori (protected picks) saj je ravno obratno kot je zapisano. Ce bo Dallas dovolj slab, potem ima realne moznosti da jim zreb dodeli enega izmed prvih 5 izborov in s tem Atlanti ta izbor ne bo pripadel. Je pa zaradi spremembe pravil ta top 5 izbor zagarantiran samo v primeru, ce Dallas konca kot ena izmed dveh najslabsih ekip v ligi. Ce koncajo kot 3. najslabsi, potem ta % konkretno pade in ce so 4. ali slabse je ta % ze pod 50. Torej za top 5 morajo v najslabsem primeru koncati med najslabsimi tremi, drugace so moznosti za to slabse kot 50:50.',\n",
       "   '@šešerko in @clutch\\n\\nSaj imata vsak po svoje prav. Dejstvo je, da se povsod igra za denar in da se vsak, ki misli, da je dober, želi preizkusiti v NBA. Nekdo je že pisal o tem, da se v Evropi bolj posveča obrambi, kar pa verjetno razlog v drugačnem sistemu lige. Res pa je, da so v NBA igralci boljši/hitrejši in jih je posledično tudi težje zaustavit in potem lahko samo navidezno izgleda, da je slabša obramba (ne smemo sklepati samo po Dallasu, ki je dejansko igral nekaj zadnjih tekem zanič v obrambi). Saj verjetno se še spomnite tekme SLO : Latvija (103:97), ali bi glede na rezultat rekli, da je bila obramba takrat z obeh strani čisto zanič ?!\\n\\nBi me pa bolj zanimalo, ker se sedaj v Ameriki govori o neki novi paradigmi njihove košarke o prednosti čim večjega števila metov za 3 točke, na kakšen način oz. s kakšno analizo s prišli do teh ugotovitev. Gotovo je verjetnost za zmago večja ob večjem št. metov za 3 ob dobrem procentu (npr. nad 35%) ?!',\n",
       "   'Dončićeva osebna statistika po mojem mnenju sploh ne bo na prvem mestu pri izboru ROY, glavno merilo njegove kvalitete bo, kako se bodo z njim kot ekipa letos odrezali Mavericksi.\\n\\nLani so Dallas Mavericksi imeli razmerje zmag in porazov 24:58.\\n\\nČe bo na koncu te sezone razmerje vsaj 36:46, to pomeni dvig števila zmag Dallasa za 50% in Dončiću naziv ROY bržkone ne more uiti. \\n\\nČe pa Mavericksi sezono končajo z razmerjem 41:41 ali bolje, pri tem pa sploh ni nujno da se uvrstijo tudi v končnico, to pomeni da bi se Dončić že v svoji prvi sezoni lahko postavil ob bok velikanom lige NBA, seveda če le ne bo kakih resnejših poškodb. \\n\\nNaj še omenim dejstvo, da ga nasprotne ekipe že sedaj obravnavajo z vso resnostjo in veliko igralcev bo prav naspidiranih proti njemu, tako da ima Luka pred sabo verjetno najtežjo sezono v svoji karieri. Po 10 tekmah se kaže predvsem to, da je Luka iz pravega testa tudi za ligo NBA, da ima pri teh letih košarkaški IQ genija in da si močno želi zmagovati in nenazadnje tudi že voditi svojo ekipo, pri tem pa svoje statistike ne postavlja na prvo mesto tako kot nekateri drugi.',\n",
       "   'Tekem ponoči ne gledam, zato prosim za pomoč tistih, ki jih gledajo. Ali je kakšna povezava med relativno nizkim številom asistenc in izgubljenimi žogami? Ali Luka izgublja žoge pri vodenju, ali z napačnimi podajami, ki jih mogoče ostali še ne razumejo?']),\n",
       " ('Dončić po odpovedi: \"Bratje\", nadaljujte, kar smo skupaj začeli. Kmalu bom z vami ...',\n",
       "  '\"Moj namen je biti eden izmed vodilnih členov v naši nadaljnji borbi za tekmovanje na elitni ravni. Naslednji mesec bom žal od daleč spremljal tekme in navijal,\" je prvi odziv Luke Dončića po tem, ko je odpovedal nastop v kvalifikacijah za SP.  Košarkarska zveza in javnost sta dobila prvi komentar Luke Dončića glede odpovedi udeležbe na reprezentančnih akcijah. Novopečeni član Dallas Mavericksov je zadevo komentiral na svojem twitterskem profilu. Najprej je opisal, kaj vse ga je pričakalo v ZDA: \"Zadnji tedni po mojem prihodu v Ameriko so bili neverjeten vrtiljak čustev in novih izkušenj. Težko je opisati, kako težko in z navdušenjem čakam, da stopim na igrišče v Dallasu in začnem s trdim delom za dosego ciljev, ki so si jih zastavili z ekipo.\" Nadaljuje z besedami, da želi \"deliti svoje občutke z vami, moji soigralci, moji \\'bratje\\'\", in tudi poudari, da bo reprezentanca nanj lahko računala v prihodnosti: \"Vem, da se vsi zavedate, da ni večje časti zame, kot igrati za mojo domovino. Moje misli so z vami, ki se pripravljate na kvalifikacije za svetovno prvenstvo. Čeprav ne morem biti z vami, sem prepričan, da boste odlično opravili svoje delo. Eden mojih najpomembnejši dosežkov v življenju je biti del zmagovalne ekipe, ki je prva in edina prinesla zlato medaljo Sloveniji. Moj namen je biti eden izmed vodilnih členov v naši nadaljnji borbi za tekmovanje na elitni ravni. Naslednji mesec bom žal od daleč spremljal tekme in navijal!!! Mojim fantom pa: Pokažite jim, kdo ste!!! Nadaljujte, kar smo skupaj začeli. Kmalu bom z vami ...\" Po odpovedi so pri Košarkarski zvezi Slovenije dejali, da jim Luka ni dal natančnega razloga za odpoved. \"Seveda smo poskusili z Lukom. Iskreno bom povedal, kako je bilo. Poudarjam, da noben klub na svetu ne sme prepovedati reprezentance, tudi Dallas ne. Z Luko sem poskusil jaz. Komunicirala sva prek SMS-ov, ker je na klice neodziven. Tudi Rašo je bil v navezi z njim. Na koncu je dejal, da ne more priti oziroma da ne bo prišel. Rašo je rekel, da je treba pridobiti njegovo izjavo in izjavo agencije, zakaj ga ne bo, saj klub tega ne more,\" je dejal selektor Rade Trifunović. Pred Luko je debitantska sezona v Ligi NBA, kjer si mora izboriti svoje mesto.  ',\n",
       "  ['bratje, vi se uvrstite na SP, pa pridem igrati namesto vas (mogoče, če se javim na telefon)\\n\\nrealno so šanse za uvrstitev tako ali tako minimalne',\n",
       "   'Luka car!!! Gremo Slovenija!!!',\n",
       "   'Vsakemu, ki ima vsaj malo mozeka v glavi je kristalno jasno zakaj ne more nastopat za SLO pred začetkom NBA. Ostali pa kujte teorije zarote. Koliko vas bi postavilo svojo službo na kocko? Kaj šele pogodbo za XY miljonov v naslednjih letih. Ko bo čas bo pa vsekakor spet zaigral za SLO.',\n",
       "   'My brothers. I see in your eyes the same fear that would take the heart of me. A day may come when the courage of Men fails, when we forsake our friends and break all bonds of fellowship, but it is not this day. An hour of wolves and shattered shields when the Age of Men comes crashing down, but it is not this day! This day we fight!\\n\\nHaha no sej je prav da se pripravi na sezono',\n",
       "   'Na velika tekmovanja se bomo žal večinoma morali uvrščati brez njega. Tja pa potem pride in spet bo slovenska veselica :).',\n",
       "   'Luka srečno v rookie sezoni, čim bolj spočit in med NBA zvezde. Samo nebo ti je meja. Jaz osebno razumem in spoštujem njegovo odločitev. Zelo mlad je še, vse kar je potrebno je treba narediti da se izogne poškodbam. Tudi neigranje za reprezentanco. Mislim da si nihče ne želi da Lukovo kariero ogrozi ali omeji kakšna poškodba. Vendarle pri 19ih začeti NBA kariero in to zagotovo z visoko minutažo za najstnika ni niti najmanj lahko. Luka je biser in bisere je treba čuvati. Na vse mogoče načine. Srečno Luka! And the rookie of 2018/19 season is.....Luka Dončić. Junija bom samo rekel: ali sem vam rekel ;)',\n",
       "   'Mamica in agent sta mu lepo tole napisala.\\n\\nPa še malo zares. Vsak ki vsaj malo spremlja NBA je že lani vedel, da Luka ne bo mogel letos igrat pred NBA sezono. Zato res ne vem kaj na zvezi mutijo s tem, da ne vejo zakaj ne bo igral.',\n",
       "   'Meni je Dončič eno tako razočaranje ... Ja, vrhunski športnik, izjemno uspešen, ampak kakšne širine pa pri njem ne vidim. In se mi zdi, da stvar ni samo v tem, da ima šele 19 let.\\nSaj ok, vsi smo si različni, tudi on ima pravico biti kar hoče, meni je samo malo žal, ker mi je ful lepše navijat za športnike, ki so mi tudi sicer fajn, zanimivi, on mi pač ni.',\n",
       "   'Na velika tekmovanja se brez najboljših slovenskih košarkarjev ne bomo uvrstili. Nimamo ravno globokega košarkarskega bazena, iz katerega bi lahko kar jemali košarkarje, ki so na taki ravni, da bi lahko uspešno igrali v reprezentanci. Tu nas bo tepla naša majhnost države.\\nZato verjetno prihaja dolgoletno sušno obdobje neuvrščanja Slovenije na evropska in svetovna prvenstva. \\nKer ni samo Luka tisti, ki ne bo mogel sodelovati v kvalifikacijah za ta tekmovanja, žal jih je še več drugih. Iz takšnega ali drugačnega razloga.',\n",
       "   'Povsem se strinjam z @ermejem, Luka trenutno res ne more igrati za reprezentanco! Tudi če bi igral, ne bi bil pri stvari, sicer pa imamo za uvrstitev na SP z Luko ali brez njega res minimalne možnosti, vse smo zapravili z Belorusijo in s porazom proti Črni gori doma.\\nBodimo potrpežljivi, prišla bodo še velika tekmovanja in Luka bo s ponosom spet nosil dres reprezentance. Fant je pravi in vidi se mu, da mu nastop za Slovenijo veliko pomeni, za razliko od nekaterih, celo mladincev!\\nVodilni košarkarski delavci naj se raje osredotočijo na to, da bodo v prihodnosti za reprezentanco igrali naši mladi in perspektivni (Duščak, Macura, Radović, Klavžar...), da bo imel Dončić sploh s kom igrati, ne pa, da ob prvi odpovedi Luke nejevoljno zmajujejo z glavo. Nesterović bi pa že moral vedeti kako izgledajo prvi meseci privajanja na povsem drug svet, ki se mu reče NBA in razumeti Luko, da sedaj zanj ni čas igranja za reprezentanco!',\n",
       "   'Mamica in agent sta mu lepo tole napisala.\\n\\nGlede na vse slovnične napake mislim, da je tole kar sam napisal. Upam, da to tudi resnično misli. Ker potem je treba res dolgoročno razmišljat in reprezentanco postavit tako, da bo ekipa ustrezala Lukatu. Edino vprašanje je kako se bomo brez njega uvrstil na temovanja.',\n",
       "   'Ne vem, če se kdo zgraža nad tem, da ga ne bo v reprezentanci, ker ima za to čisto logične razloge. Jaz mu tega čisto nič ne zamerim, razumem.\\n\\nZamerim pa mu tole komuniciranje. Tudi ta tvit ... Kaj pa je povedal v njem? Nič, v bistvu, le malo je naložil. Niti ni napisal konkretno: sori, fantje, moja trenutna kariera me toliko okupira, da sem se tako odločil. Niti besede o tem, zakaj zvezi ni dal jasnega odgovora ...',\n",
       "   'Dejte nehat bluzit s tem, da mu ne morejo prepovedati udeležbe. Lahko mu jo. NBA liga ni pod jurisdikcijo Fibe, tudi CAS ne more nič v sporu z njimi, je povsem samostojna liga. Klubi tam so podjetja, igralci pa njihovi zaposleni. Zelo preprosto. Pa tudi če mu dovolijo, je treba zavarovati njegovo pogodbo.\\n\\nIn Rašo bi to lahko vedel. Mislim pa, da imamo veliko večje probleme, kot pa neigranje novinca v Ameriki. Rešujmo raje to.',\n",
       "   'Ples,  ni  kvantni fizik, kosarkar je. In ker to dela vrhunsko, je to dovolj. In ne proba biti velik mislec in filozof, le tisto kar je. In sportnik je zaradi sebe, ne pa vas prevrtljivcev. Pac, zberi si koga drugega in navijaj po  utecenih navadah ali kaj zelis. Nihce se ne bo na nos metal, da bo tebi fajn. V  tvojih zeljah  in navijaskih eskapadah.',\n",
       "   'Cini Minis@\\nNekoga ki ne mara Slovenije in slovencev\\npa mora živeti tu, moraš tudi ti razumeti, da\\nmora tip nositi težko breme s seboj !',\n",
       "   '@vranek\\nPles, ni kvantni fizik, kosarkar je. In ker to dela vrhunsko, je to dovolj. In ne proba biti velik mislec in filozof, le tisto kar je. In sportnik je zaradi sebe, ne pa vas prevrtljivcev. Pac, zberi si koga drugega in navijaj po utecenih navadah ali kaj zelis. Nihce se ne bo na nos metal, da bo tebi fajn. V tvojih zeljah in navijaskih eskapadah.\\n\\nPač, to je moje mnenje, kaj me zdaj napadaš in se na nos mečeš ...',\n",
       "   'Sir Charles cisto resno,    Lukatu?????',\n",
       "   'Luka bo naslednjič igral za reprezentanco junija 2020 na kvalifikacijskem turnirju za OI. Posledica? Jasno, uvrstitev na OI. In tam? Naskok na prvo slovensko medaljo v ekipnih športih!\\n\\nDo takrat bo Luka že eden najboljših košarkašev na svetu.',\n",
       "   'Ne nas lukat, brat!',\n",
       "   'Zakaj res zavijate Luko v celofan, se bojite, da ne bo prenesel (in to ob vseh udarcih, ki jih dobi pod obročem)? Če stori kaj narobe - neoglašanje selektorju to definitvno je - je treba pač to povedat.']),\n",
       " ('Dončić kot prvak Španije leti na nabor v New York',\n",
       "  'Košarkarji madridskega Reala so na četrti tekmi finala španskega prvenstva s 96:85 premagali Baskonio in s skupnim izidom 3:1 v zmagah že 34. osvojili naslov španskih prvakov.  Na začetku druge četrtine je semafor kazal 23:23, nato pa je Real naredil delni izid 6:0 in vodstva do konca tekme ni več izpustil iz rok. Baskonia se je v tretji četrtini približala le na točko zaostanka (51:52), a je Real na začetku zadnjega dela pobegnil na +10 (67:57).    Luka Dončić, ki ga v četrtek čaka nabor Lige NBA, je v 28 minutah dosegel osem točk, pri čemer je bila ključna trojka dobri dve minuti pred koncem pri izidu 81:78 za Real, ob -6 pa se Baskonia ni mogla več vrniti in podaljšati finalne serije. Prvo ime srečanja je bil sicer Rudy Fernandez, ki je dosegel 27 točk.  Nov val priznanj - izbran tudi za MVP španske ligeLovorike za Dončića še kar dežujejo, saj je bil po koncu španskega prvenstva razglašen za najkoristnejšega igralca lige, s tem seveda tudi član najboljše peterke in najboljši mladi košarkar v ligi ACB. \"Nimam besed. Neverjetno! Na prvi tekmi nam je Baskonia otežila življenje, za kar jim moramo čestitati, a nato smo zelo dobro odigrali in mislim, da smo si naslov več kot zaslužili,\" je bil po kopici priznanj in osvojitvi prvaka Španije presrečen Luka Dončić. \"Najboljša sezona v življenju je za vse ljudi, s katerimi sem delal v Real Madridu, za vse osebje, moje soigralce, fizioterapevte, zdravnike,\" je sanjsko sezono posvetil vsem sodelavcem pri evropskih in zdaj še španskih prvakih.  Pot na draft ni bila načrtovanaSeveda po koncu tekme ni manjkalo vprašanj o pričakovane odhodu iz Reala, Španije in Evrope. Najpogostejše vprašanje je bilo, ali se bo zdaj vrat na nos odpravil v New York na četrtkov NBA-nabor. \"Še vedno ne vem, če grem na nabor. Nič ni bilo načrtovano. Moram še govori z mojim agentom, potem pa bomo videli kako,\" je še takoj po tekmi v Vitori pripovedoval senzacionalni 19-letnik, ki ne skriva, da si želi čim višjega izbora: \"Če bom izbran med prvimi petimi bo neverjetno, želim si pa da bom izbran čim višje.\" ESPN: Dončić prihaja z družino v BrooklynA čez lužo, kjer podrobno spremljajo vse dogajanje okoli najbolj obetavnega Evropejca je ESPN že objavil, da Luka Dončić prihaja na nabor 2018, ki ga gostijo Brooklyn Nets. Po pisanju največjega ameriškega spletnega portala bo Dončić eden izmed 20 najobetavnejših igralcev, ki bodo skupaj z družinami spremljali košarkarje v zeleni sobi Barclays Centra. Po navajanju virov bodo skupaj z Lukom Dončićem za mizo sedela še mama Mirjam Poterbin s partnerjem in babica Milena Poterbin, Liga Endesa, finale, četra tekma:BASKONIA - REAL MADRID 1:385:96 (21:18, 17:24, 19:23, 28:31)Beaubois 19, Šengelija 16, Janning 15; Fernandez 27, Campazzo 17, Ayon 14, Dončić 8 (za dve 1/2, za tri 1/4) 8 skokov in dve podaji v 28 minutah.  V odebeljenem tisku je izid v zmagah. Igrali so na tri zmage.  Ključna trojka Dončića tri minute pred koncem Po tekmi z novimi lovorikami ',\n",
       "  ['Pa spet nora trojka!',\n",
       "   'Bravo Luka!!',\n",
       "   'Čestitke Luka, v pomebnem trenutku super odločilna trojka ki je strla Baskonia! Srečno in brez poškodb v NBA! :)',\n",
       "   'Danes index 16..skupno drugega najboljšega v končnici med vsemi...vseeno se bo kdo našel in ga kritiziral.\\n\\nLuka ni robot. Igral je 11 mesecev (upoštevajoč priprave z reprezentanco od konca julija). Slab teden bo zlatu in zvinu gležnja že igral na super pokalu...vse do danes. Luka je slabo pripravljen in preveč je ane????',\n",
       "   'Lepo bi bilo, če bi seveda pot v Evropi končal tako kot na prejšnji tekmi, ampak nora trojka na koncu, ko se je tekma lomila, pa po mojem mnenju je pokazal precejšnjo zrelost. Videl je, da mu ne gre in ni posiljeval svojega meta, ampak je raje predal žogo drugim, ki jim je danes šlo. Ne pa kot Llull recimo, ki si je prejšnjič vzel 14 metov in niti enega zadel.\\n\\nLuka, hvala ti za neverjetno sezono in izjemne košarkaške predstave, prav mešane občutke imam, ker tekem več ne bom mogla spremljati v živo... Vso srečo v ZDA, ponosni smo nate!',\n",
       "   'Tudi ko Dončiča ni, je tukaj. Ena nora poteza in to je to. Luki se vidi, da je že sezona zelo zelo dolga in ziher je malo padel v formi, a zopet je nekaj naredil. Nora sezona, res nora. Nikoli nisem navijal za Real že od časov ko jih je D. Petrović s Cibono v osemdesetih gajbal, a Real je velik in najverjetneje najbolje organiziran klub v Evropi. Od poškodb pol ekipe do osvojitve, kar se da vrednega osvojit. BRAVO LUKA, čestitke Realu.',\n",
       "   'Sicer je Luka zadel ključno trojko in dobil 8 skokov ampak to danes ni bilo za nikamor. Ok real je prvak, zdaj pa na nabor in razturit Ameriko.',\n",
       "   'Nora trojka, ki je pomojem odločila tekmo...kot ekipa so res igrali dobro, samo me pa res zanima (če kdo ve) kaj je z Randolphom da ne igra?',\n",
       "   'Čestitke za še eno kanto, zdaj pa sledi uživanje na naboru! \\n\\nKakšno sezono ima ta fant, to zgodbo tudi v pravljico ne moreš spravit, ker bi bila preveč kičasta.',\n",
       "   '4-5 izbor.\\n\\ntudi sicer, kapo dol pred Luko!',\n",
       "   'NORO!... ko ze hoces recit kaj cez njegov napad, pa preprosto ne mores zaradi te trojke...je pa danes odigral zelo dobro v obrambi in ob dobrem delu v ameriki lahko postane ne samo povprecen ampak ob najboljsem izhodiscu celo klay?! :)',\n",
       "   'Danes je res slabo doncic igral, ampak nima veze, vazno da je klub zmagal..da vidimo kak nabor bo v cetrtek, v zda..',\n",
       "   'V eni sezoni pri 19h osvojil več kot bo velika večina profesionalnih igralcev osvojila v karieri, s tem da je bil povsod MVP, kjer bi ekipa lahko samo sanjala o finalih in pokalih brez MVP prispevka. Unchartered waters. \\n\\nČisto vseeno kateri pick bo, kasneje kot bo manj pritiska bo, pa čeprav mu tisti puhoglavci iz NCAA zaenkrat lahko samo brisače nosijo in ga prosijo za avtograme. \\n\\nNaj mu bo sreča naklonjega pri tem kje bo pristal v NBA cirkusu.',\n",
       "   'Zadnji koš za slovo od evropskih klubskih parketov trojka z ene noge v zadnji sekundi napada in še zelo pomembna! Noro. Pobral v Evropi vse kar se je pobrati in osvojiti dalo, pri 19 letih je osvojil toliko naslovov, ekipnih in individualnih, o katerih lahko 99.99% igralcev samo sanja celo kariero. Pokoril košarkarsko Evropo, čas za ligo NBA in da pošola še Američane. Srečno Luka in hvala!',\n",
       "   'spet clutch trojka na eni nogi...hahaha...ta fant je nor THE DON MVP!!!!...upam, da se ga bo dans vseeno orng vlil, pa naj gre mačkast na draft...No.1 pick bo... bravo Luka!!',\n",
       "   'https://twitter.com/MovistarBasket/statu\\ns/1009174878862303232?s=19\\n\\nNora trojka...',\n",
       "   'https://sports.yahoo.com/important-nba-draft-update-luka-doncic-wants-jennifer-aniston-tiger-173921469.html',\n",
       "   'Več pa ni',\n",
       "   'MVP pa je ....',\n",
       "   'A dobi Real kako odškodnino ko gre Luka v NBA?']),\n",
       " ('Cerar košarkarjem: Nagrada je bila namenjena vam, verjamem, da ste jo že prejeli',\n",
       "  'Evropski prvaki v košarki še vedno čakajo na izplačilo denarne nagrade in izpolnitev obljube premierja Mira Cerarja, da bo spremenil zakonodajo za nagrajevanje vrhunskih dosežkov športnikov, tako da bi bil eden največjih uspehov v slovenski športni zgodovini primerno poplačan. Cerar se je odzval na zapise v medijih, da država ni znala primerno nagraditi zlate kolajne na EP-ju 2017. Ponovil je, da je država povišala nagrado za dosežek z izrednim dodatkom in da je na sestanku s predstavniki KZS-ja obljubil spremembo zakonodaje za nagrajevanje vrhunskih športnikov. \"Zavedam se, da so športni uspehi uspešen promotor države ter da je šport pomemben gradnik zdravja celotne družbe. S tem namenom imamo sprejeta pravila, ki za vse športe enakovredno določajo višino izplačila nagrade za dosežen športni uspeh. Po teh pravilih je nagrada za zlato medaljo na evropskem prvenstvu v košarki 17.080 evrov. Glede na izjemen uspeh je vlada s posebnim sklepom Košarkarski zvezi Slovenije namenila za nagrade še dodatnih 50.000 evrov,\" je zapisal Cerar. Vlada je ta sredstva na račun KZS-ja nakazala že 12. oktobra lani. \"Glede na to, da je bila nagrada namenjena vam, verjamem, da ste jo že prejeli,\" je še zapisal Cerar, ki se je decembra lani srečal tudi s predstavniki KZS-ja in se z njimi pogovarjal o povečanju nagrade, ki so jo zahtevali košarkarji. \"Takrat sem povsem jasno povedal, da dodatnih sredstev za nagrade ne morem obljubiti, da pa lahko pri pristojnih ministrstvih preverim, če smo glede tega izkoristili vse pravne okvirje in finančne zmožnosti. Prav tako sem zagotovil, da bomo v prihodnjem mandatu naredili vse, da bo spremenjena zakonodaja, ki bo znala bolje nagraditi dosežke vseh vrhunskih športnih rezultatov.\"  Čast izkazali z Bloudkovim priznanjemOdnos do košarkarjev je Slovenija po Cerarjevem mnenju pokazala tudi s podelitvijo Bloudkovih priznanj za vrhunski športni dosežek. \"To priznanje ni le velika čast, ampak tudi zagotovilo, da bo lahko vsak član moške košarkarske reprezentance, ko bo izpolnil pogoje za upokojitev, upravičen do izplačila pokojnine. Danes bi tako vsak dobil vsaj 1.500 evrov mesečne pokojnine. S tem smo kot družba pokazali, da cenimo vaš prispevek še dolgo po tem, ko zbledi lesk prejetih medalj. Namesto višjega enkratnega zneska, ki bi ga športniki prejeli v najbolj produktivnem obdobju svojega življenja, smo na ta način poskrbeli za dostojno starost za čas, ko se bodo iztekle klubske in sponzorske pogodbe. Verjamem, da bo v jeseni življenja ta nagrada cenjena bolj kot sedaj.\" Ob tem premier poudarja, da je bila vlada športu zelo naklonjena. Trenutno je v državni upravi zaposlenih 117 športnikov, povečala pa so se tudi finančna sredstva, namenjena športu, in to kar za 70 odstotkov. \"Sredstva, namenjena za slovenski šport, znašajo v tem letu, skupaj z evropskimi, več kot 30 milijonov evrov. Samo Košarkarska zveza Slovenije bo v letu 2018 tako s strani države prejela kar 20 odstotkov več sredstev kot lani,\" je še zapisal. ',\n",
       "  ['Cmerar spet joka',\n",
       "   'Kaj pa vrhunski strokovnjaki ki so zaslužni za gospodarsko rast in delovna mesta? A njih se pa pokrade?',\n",
       "   'Prle je car... https://ekipa.svet24.si/clanek/kosarka/r\\neprezentancna-kosarka/5acc880bb4022/prepelic',\n",
       "   'Mislim, da se država do košarkarjev, kar korektno obnaša. Ok, morda bi lahko dobili kakšnega tisočaka več. Sem pa včeraj gledal g. Slaka, kako je napadal vladi in Zagorca, kako je zagovarjal  KZS mi je bilo pa kar malo slabo od tega, kako moramo slovenci vsako stvar zaplesti in iz nje narediti afero.',\n",
       "   'Pis ljubav bok!',\n",
       "   'Kasperman, to pot Cerar nič ne joka. Samo povedal je dejstva, ki so bila včeraj (namerno) zamolčana. Bodimo pošteni in ne kritizirajmo na pamet vsevprek !',\n",
       "   'za Dimca, Zagorca in Rebca bo verjetno ta pokojnina rešitev za življenje po košarki...lepa poteza glede tega',\n",
       "   'A bodo stavkal?',\n",
       "   'Prepeliču ni bilo prav nič treba te drame na Twitterju. S tem si ravno ne pridobiva simpatij.',\n",
       "   'Ne razumem tega spora. Vsaj 1500 evrov pokojnine na mesec je več kot so dobili Srbi in Francozi skupaj. Povprečna življenjska doba se daljša, tovrstno pokojnino pa lahko koristi tudi vdova.\\n\\nV glavnem, kdor z malim ni zadovoljen, velikega ni vreden. Vsekakor nismo Luksemburg z veliko vrečo denarja.',\n",
       "   'Penzije pa več kot je povprečna plača.. res jim je hudo telim košarkarjem',\n",
       "   'Po vcerajsnji vecerni informativni oddaji lahko trdim da je Zagorac z naskokom najboljsi retorik na slovenskem sportnem prizoriscu. Tako pametno in lepo kot je on vceraj govoril redko kdo lahko. Slak je pa naredil cisto prav da je napadel Brencicevo, ki se vedno (kot vsi ostali politiki) izmika direktnim odgovorom. Osebno podpiram vsakega novinarja, ki ne dopusca mesanja dreka ampak hoce dobiti jasen odgovor na jasno zastavljeno vprasanje',\n",
       "   'Zagorac in podobni asi, so ne krivi ne dolzni dobili penzion 1500€ do konca zivljenja in to po koncu kariere ki v sportu traja kakih 25/30 let manj kot pri navadnih smrtnikih. \\n\\nVelika velika vecina ljudi, ki posteno oddela 40 let in pusti svojo mladost in zdravje o taksnih penzijah lahko samo sanja, tudi polovico tega lahko samo sanjajo, zato bodimo malce realni.\\n\\nKar se pa tice denimo nagrade Srbom, pa s tega vidika vsekakor lepo od njihove vlade, ampak poglejte komentarje obicajne raje, ki dela za 300€ in se postavite v njihovo kozo. Bi bilo vam kul, da drzava daje taksne zneske medtem ko ogromen delez naroda zivotari? Tako kot vsaka ima tudi ta zgodba dve plati.',\n",
       "   'Prepelič se mi je kar malce zameril s tem obračunavanjem na družbenih omrežjih. Pa vem, da nisem edini. Škoda, da se je spustil na ta nivo, bilo je povsem brez potrebe... Tako jamrajo, pa jim je lepše kot 99% ljudi na svetu, a se tega ne zavedajo. Žal. Cerarju pa čestitke za pravilno in logično potezo.',\n",
       "   'to je pa še nekaj bolj podlega kot razpisi na ministrstvu za gospodarstvo, k de nimajo tile pozerji že polnih riti',\n",
       "   'Luka Doncic\\n\\n@luka7doncic\\nIskreno se ne gre o denarju, kljub temu, da je nase misljenje, da je to zalostno, koliko denarja so nam namenili. Ta denar nikomur od nas ne spremeni zivljenja, je pa marsikomu dobrodosel. Najbolj pa boli to, da smo bili zignorirani s strani g. Mira Cerarja #mislovenci\\n\\nSmrk smrk - tako na evropskih košarkarskih terenih kot tudi na Čivkarju hahaha',\n",
       "   '...tako bom dejal. Če so fantje igrali samo za nas in za Slovenijo, naslednjič več ne rabijo igrati. Igrali so zase, za nas in za Slovenijo. In za svoja prizadevanja in uspehe so  dobili  mnogo. Dobili so zlato, dobili so športno nesmrtnost, dobili so boljše izhodišče za višje in donosnejše pogodbe, dobili so nekaj denarja kot nagrado in dobili so zavidljive pokojnine. Fantje, če se samo preko denarja zrcali naše navdušenje nad vašimi predstavami, potem ste me pa tokrat prekleto razočarali. Vsi imate profesionalne pogodbe, za moje razumevanje so denarji, ki se plačujejo v profesionalnem športu nekatere  vsaj nekaj deset krat precenjene. Svoje principe pa si dajte potešiti v kakšni nematerialni zadevi. Nenazadnje so storili nekaj, kar bo v športu večina Slovencev le sanjala, dobili pa so temu primerno nekaj, kar bo lahko večina Slovencev v svojem življenju le sanjala. In dajmo se zavedati, da nismo Španija, nismo Francija, ampak smo Slovenija. Tokrat žal z vsem nisem na strani športnikov.',\n",
       "   'haha, Cerar pravi da je nagrada za zlato na EP 17000 eur. ampak, ker so nasi vodilni v drzavi prave dobre vile, so to zvisali na 50 jurjev. a ste vi normalni. za to, da si evropski prvak v kosarki in to kot Slovenija, date vsakemu jurja, pardon, je potrebno se obdavciti, torej 750 eurov. da vas ni sram. taksne cene imate vi za svoje seje, pa niste naredili niti ene same pozitivne reklame za naso drzavo. ste jih pa nesteto negativnih. bolje bi bilo, da sploh ne bi govorili o kakrsnikoli nagradi. Sicer pa, ce bi bili kosarkarji pametni, bi vrnili tisti denar, pa zatevali, da se niti eden od vodilnih vec ne prikaze na nobeno tekmo, prvenstvo, slikanje, itd. a ne bi bilo ceneje za vlado, da bi dali vsakemu igralcu 50 jurjev, pa nobene bloudkove nagrade.',\n",
       "   'Nagrada je povsem korektna in mislim, da je država tu svoje naredila. Res je, da so se športniki za 90 dni odrekli družinam in prostemu času. 67000 Eur bruto je dovolj denarja in če se to porazdeli med 12 košarkarjev, mislim, da je to dovolj za 3 mesece dela + dodatek k pokojnini, ki ni tako nizek, tako da ne razumem, kaj se košarkarji tako pritožujejo.  \\n\\nProblem jaz vidim v tem, da je Cerar v evforiji teh zmag obljubil denar,  ki ga verjetno niti ne more kar tako izplačati, ker je stvar zakonsko omejena in premier pač tukaj ne more kar deliti denarja.',\n",
       "   'Pa še to. Razumem, da ni vseh 12 košarkarjev na nivoju Luke Dončiča in Gorana Dragiča in da nimajo bajnih pogodb, samo sedaj naknadno zahtevati nek denar, ki kao ni bil izplačan (čeprav sedaj vidimo da je bil), se mi zdi neprimerno. Najbolj smešni so pa argumenti nekaterih košarkarjev, češ imamo denar za vojsko nimamo pa za šport. Ko nekdo v tej državi nekaj zahteva, se vedno sklicuje na neke druge zgodbe o tem, kako drugi dobivajo denar on pa ne in da to ni fer. Nagrade so zakonsko predpisane, ali so dovolj visoke,  lahko debatiramo, vendar trenutno pač take so in to je potrebno spoštovati.']),\n",
       " ('Šov Dončića v Madridu, v 21 minutah 18 točk',\n",
       "  'Luka Dončić je Real iz Madrida vodil do zmage nad aktualnim prvakom Evropskega pokala, Unicajo iz Malage (99:85). V 21 minutah je dosegel 18 točk. 18-letni slovenski reprezentant je z odličnimi potezami dvigoval občinstvo na noge, na tekmi se je zbralo več kot 8.000 gledalcev, 18 točkam pa je dodal še šest skokov in pet podaj. Skupaj je zbral 26 statističnih točk. Dončić je skupaj z Jayceejem Carrollom (29 točk, statistični indeks 27) predstavljal nerešljivo uganko za Unicajo, pri katerih sta dvomestno število točk dosegla Ray McCallum (15 točk) in Carlos Suarez (11 točk).  Real je hitro povedel, odločilno prednost pa je nabral v tretji četrtini, ki so jo dobili z 31:16. V zadnjo četrtino so vstopili z 20 točkami prednosti (76:56). Zmaga ni bila vprašljiva, z uspehom pa se je Real povzpel na vrh lestvice v španskem državnem prvenstvu.  Igralci Reala so se ogrevali v majicah, na kateri so izrazili podporo poškodovanemu Ognjenu Kuzmiću, ki je končal sezono. Real Madrid za srbskega košarkarja že išče menjavo, govori se, da bi član kraljevega kluba lahko postal slovenski center Gašper Vidmar.  Izkazal se je tudi drugi slovenski reprezentant, Jaka Blažič, ki je bil z 20 točkami (sedem skokov, štiri podaje) prvi strelec MoraBanc Andorre. Ta je sicer morala priznati premoč Zaragozi, ki je slavila s 95:78.  Najboljše akcije Dončića na današnji tekmi si lahko ogledate spodaj.     ',\n",
       "  ['Bravo Luka!',\n",
       "   'Kralj :))',\n",
       "   'Tole pa je res veselje gledat - kakšna raznolikost, kakšna razigranost! Bravo, Luka!',\n",
       "   'Danes je imel Real šutersko odličen dan. V tem stilu je bil tudi Luka. Po fuzbalersko je v preigravanju pri še dva tunela med nogama. Bravo, le tako naprej!',\n",
       "   'Pri = prodal',\n",
       "   'Mulo kar preseneča in preseneča. Bemtiš, upam da ne pride do kakšne poškodbe.',\n",
       "   'Blažič tudi zelo dobro. 20 pik, 7 skokov, 4 asistence.',\n",
       "   'Nič ne preseneča! Mulo je bil od nekdaj najboljši v vseh konkurencah, v katerih je nastopal. Še ko se je s 16 leti pojavil v članski konkurenci, je imel odlične indekse upoštevaje igralni čas. Letošnje leto bo njegovo!',\n",
       "   'Mater je dober. Nasprotniki ne vedo več niti za sebe, ko stopi na igrišče. Takoj pride prednost na 20 in več točk za Real. Mislim da že dolgo ni bilo na evropskih igriščih igralca, ki bi delal takšno razliko. Noro.',\n",
       "   'Zastrašujoče dober! Sicer pa NAJHITREJŠE Dončić novice spodaj.\\n\\nKLIK',\n",
       "   'Izgleda da sta tista poskodba gleznja in utrujenost z EP ze preteklost. Prve 3 tekme za Real je odigral nekoliko rezervirano, od takrat naprej pa igra vedno boljse in trga tako v EL kot v ACB. Res ga je uzitek gledati, taksne razlike ne dela nihce v Evropi trenutno in to kaze tudi +/- ki je pri Luki ze  najvisji v ACB. \\nCe pri 18. letih s taksno lahkoto dominira, potem mora cim prej v NBA. Vsaka dodatna sezona v Evropi bo zanj izguba casa. Ce pride nazaj Llull in se podredi Doncicu, se pozdravi Randolph in dobijo enega obrambnega centra bo Real zame prvi favorit EL. V zadnjih tekmah presenecajo z dobro obrambo, lani v celotni sezoni nismo videli taksne obrambe od njih.',\n",
       "   'kaj pa Antomi Tonček ?',\n",
       "   'Lukace5 drži čist!',\n",
       "   'Kaj bo Real čisto vse evropske prvake pokupil? Će bo res Vidmar vskočil in Prepelič pride pozimi, bo tam več Slovencev kot v Olimpiji',\n",
       "   'Zame je Real prvi favorit za zmago v EL že od zaključka EP. Res nimajo sreče s poškodbami, ampak samo, da je z Luko vse v redu in bo to dovolj za veliko večino ekip. Ko pa se vrneta še Randolf in potem še Lull, bodo praktično neustavljivi. Kdo je šef v ekipi, pa tako ali tako ne more biti nobenega dvoma. Takšnega šefa si lahko vsakdo samo želi. Nikomur ni konkurenca in nihče njemu ni konkurenca, zato lahko igra samo za ekipo. In pri tem uživa...\\n\\nLukace5, jasno, da ne bo dolgo ostal v Evropi, saj mu tako hitro kot napreduje tudi zmanjkuje konkurence. Ker so nad njim vsi tako navdušeni, mu še sodniki jedo iz roke. Edina možnost, da ostane v Evropi še naslednjo sezono je, da letos ne osvoji EL. In to se mi ne zdi prav zelo verjetno...',\n",
       "   'Vprasanje kaj bo ko pride Llull. Cisto mozno je, da bo porusil sistem s svojim soliranjem. Jaz samo upam, da je dovolj pameten da se bo podredil Doncicu, itak bo imel po tej sezoni dovolj casa in prostora v naslednjih sezonah da igra za statistiko. Ce pa bo zelel letos biti glavni, potem Real ne bo prvi favorit.',\n",
       "   'A mu ni 0 nerodn k tok smeš nasprotnike...Luka car',\n",
       "   'Llull bo igral vlogo, kakršno mu bo narekoval trener, tako tudi Dončič. Najprej zmaga teama, potem osebne statistike, tako to gre. Drugače pa je ogled tekem z Dončičem vedno boljša in boljša - poezija. Bravo Luka!',\n",
       "   'Kaj dela Luka, strašno, Llull je že priden navijač na klopi, s takima dvema igralcem pa moraš dejansko vse pregaziti.',\n",
       "   'In res, Dončić še vedno najraje navleče dva, tri igralce na sebe in potem poda prostemu soigralcu, le če se mu odpre raketa, gre v prodor in meče tudi le takrat, ko je to najboljša rešitev.']),\n",
       " ('Reportaža iz Carigrada: Skok na letalo, do Turčije po zlato in domov',\n",
       "  'Pogosto pravimo, da dan nima dovolj ur, da bi postorili vse, kar želimo. Toda ta nedelja je Slovencem pokazala, koliko vsega - dogajanja in čustev - se lahko stlači v borih 24 ur. Budilka je zazvonila ob 6.00. Treba je bilo vstati in se odpraviti na Brnik, saj so tam že od zgodnjega jutra vzletala letala, ki so v Carigrad vozila na stotine Slovencev, ki so po četrtkovi dobljeni polfinalni tekmi s Španijo ugotovili, da so sanje o evropskem zlatu postale resničnost, in zato zasuli klicne centre turističnih agencij z eno samo zahtevo - rezervacijo navijaškega aranžmaja v Carigradu. Cena: 490 evrov z organizacijo aranžmaja plus vstopnico, ki je stala med 45 in 75 evri, odvisno od sektorja. Marsikomu pa je na poti stala še ena ovira - potni list! V Turčijo se namreč ne more potovati zgolj z osebno izkaznico, zato so se številni navijači prijeli za glavo, ko so ugotovili, da je petek zadnji delovni dan za izdelavo potnih listov. Vendar pa je tudi birokracija tokrat v duhu športnega zanosa celotnega naroda pokazala človeški obraz - vlog za prednostno izdelavo potnega lista je bilo v petek vloženih kar 335, celjska upravna enota pa je uradne ure zato podaljšala do 19. ure. Tudi na Cetisu, kjer izdelujejo potne liste, so okrepili ekipe, podaljšali delovnik in vsa naročila spravili pod streho. Ko letališče postane mravljiščeDa se je košarkarska evforija zalezla v vse pore, je postalo jasno že v taksiju: \"Kam? Na letališče? Vsi gredo tja! Bomo prvaki, kajne? Seveda bomo, in zlato si fantje tudi zaslužijo!\" Na Letališču Jožeta Pučnika je bilo že navsezgodaj zjutraj živahno kot na ljubljanski tržnici v soboto. V nekaj urah je namreč proti Turčiji poletelo kar devet izrednih letal - prvo ob 4.40, zadnje ob 11.15, poleg vsega preostalega rednega prometa seveda, in drugi potniki so le začudeno gledali, ko se je po letališki stavbi razlegal ukaz: \"Navijači z ročno prtljago na desno, drugi na levo!\" Na Brniku so se dobro pripravili na povečan promet, delala so vsa prijavna okenca, odprli so tudi nove linije za varnostno kontrolo, vse je potekalo hitro in učinkovito. Naše letalo je bilo v zraku ob 9.00, na svojem boku je nosilo napis AnadoluJet - gre za hčerinsko družbo Turkish Airlinesa, ki sicer leti zgolj na notranjih turških letih, vendar je bilo v Sloveniji potrebnih toliko letal, da so jih morali \"napraskati\" na vseh koncih, da so našli prostor za 1.500 navijačev, ki se je odločilo za ekspresni, manj kot 24-urni skok v Turčijo. V Turčijo za vsako cenoMed potniki je bil tudi Marjan iz Ilirske Bistrice, ki je potoval s svojo najstniško hčerko Nino: \"Da želim nekoč biti del velikega slovenskega športnega dogodka, sem se odločil že leta 2000, ko sem zamudil Slovenijo na evropskem prvenstvu v nogometu v Belgiji in na Nizozemskem. In v četrtek sem si rekel - zdaj ali nikoli!\" Vsak izmed navijačev je imel svojo zgodbo o odločitvi za pot. Skupina prijateljev je imela že kupljene vstopnice za sobotni koncert Rolling Stonesov v sosednji Avstriji, potem pa se je slovenska reprezentanca uvrstila v finale EP-ja. Dilema - kaj pa zdaj?! Ni trajalo dolgo, ko so našli salomonsko rešitev - na oboje, seveda! Naprej na koncert, nato pa nazaj domov, na letalo in v Turčijo. Še večja junaka sta bila Miklavž in Matevž. Štirje prijatelji so se v Carigrad iz Ljubljane na 1.500 kilometrov dolgo pot odpeljali kar z avtomobilom. \"Krenili smo ob treh zjutraj v soboto. Vozili smo do Niša v Srbiji, kjer smo se ustavili na kosilu, nato pa naprej do Bolgarije, kjer smo v Sofiji tudi prespali,\" pripovedujeta 29-letnika. V nedeljo so na cilj prispeli v poznih popoldanskih urah, ravno pravočasno, da so ujeli avtobuse, ki so iz navijaške cone peljali v dvorano Sinana Erdema. \"Danes bomo prespali v tukaj v Carigradu, nato pa v ponedeljek nazaj proti domu, menjavali se bomo za volanom,\" napovesta. Gasilska sirena za osuple TurkeNavijaško cono so v soboto na vrat na nos odprli v nekaj kilometrov oddaljeni marini, kjer drug poleg drugega stoji približno deset lokalov, in tja so neposredno z letališča takoj po pristanku vozili slovenske navijače s številnimi avtobusi. \"Zadnji nosi številko 37,\" je pojasnil Kompasov predstavnik in tako ponazoril, kako množično je slovensko romanje v Carigrad. Popoldne je bilo tako namenjeno predvsem posedanju v senci terase in nazdravljanju s hladnim pivom - v nasprotju s hladno deževno domovino je v Turčiji namreč pošteno pripekalo sonce in termometer je kazal kar okoli 30 stopinj. Seveda pa je bilo treba ogreti tudi glasilke in jih pripraviti za zvečer, iz zvočnikov so se slišale Golica, V dolini tihi, Slovenija gre naprej in druge domače, dnevu primerne pesmi. Za vseprisotno poskakovanje \"Kdor ne skače, ni Sloven\\'c\" se je našel prostor okoli vseh miz, domačine pa je najbolj osupnil zvok gasilske sirene, ki jo je skupina navijačev \"gonila\" na parkirišču. Spet drugi so sklenili, da bo navijanja dovolj že zvečer, in zato skočili na kratek ogled mesta - treba je bilo videti vsaj znamenito Modro mošejo. V navijaški opravi, seveda. \"Bratje Slovenci!\"Okoli 19.00 je nato napočil čas za premik pred dvorano, kjer so se med množico pomešali tudi srbski navijači, sicer precej manj številčni. \"Iz Beograda je poletelo samo eno čartersko letalo. Cena aranžmaja je bila 350 evrov, večinoma pa smo se odpravili z avtomobili in kombiji. Vožnje smo imeli približno 10, 12 ur,\" pove Nada iz Zemuna. Navzočnost policije je bila seveda močno okrepljena, vendar posredovanje ni bilo potrebno, saj je vse minevalo v pristnem prijateljskem vzdušju. \"Za petminutno pot od parkirišča do vhoda smo potrebovali tričetrt ure, ker smo vmes nazdravljali z brati Slovenci, se slikali, drug drugemu želeli srečno,\" se je navduševal Miloš iz Beograda. Kaj zapisati o navijanju na sami tekmi? Slišali ste sami. Kadar koli se je v dvorani zaslišalo skandiranje: \"Srbija!\", so ga slovenski navijači preglasili v nekaj sekundah. Srbom pomanjkanja gorečnosti kljub vsemu ne gre očitati. Med tretjo četrtino smo preverili vzdušje na njihovi navijaški tribuni, številni so bili že brez majic, viseli čez ograjo in povsem osredotočeno zrli na igrišče ter čustveno pospremili vsako potezo na igrišču. Toda slovenski navijači so vedeli, da so priča zgodovinskemu trenutku, prišli so po zlato in pika. Naši junaki na parketu so leteli na njihovih krilih in obratno. Premalo časa za slavjeKo je nekaj dolgih sekund pred koncem postalo jasno, da se nam zmaga ne more več izmuzniti, je na tribunah eksplodiralo. Evforija se je nadaljevala vse do zmagovitega dviga pokala, čustvene Zdravljice in vznesene We are the champions. Potem pa jo je zamenjala nejevolja, saj so številni navijači ugotovili, da je ura v Carigradu premaknjena za eno uro naprej in da se čarterska letala vračajo že tako kmalu, da ne bodo imeli časa, da bi v miru in velikem slogu proslavili zgodovinski naslov, saj je bilo treba biti na letališču že dve uri pred odhodom, plus še vožnja do tja. Lahko noč, bratje Srbi!Počasi pa so pojenjale tudi moči, evforičen dan je terjal svoj davek in nastopila je utrujenost. Tudi srbski čarter se je domov vračal ob 4.00 in navijači orlov so začudeno zrli v izmučene Slovence, ki so se posedli in polegli po letaliških klopeh. \"Pa kaj vam je? Če bi mi osvojili naslov, bi Carigrad obrnili na glavo. In tukaj na letališču bi viseli s stropa, okupirali bi tisti točilni pult, povabili tudi vas, častili vse! Pa tudi če bi to pomenilo, da zamudimo letalo - ni pomembno, samo da si prvak!\" smo dobili lekcijo iz navijanja. Toda moči preprosto ni bilo več dovolj in slovenski navijači so komaj čakali, da zatisnejo utrujene oči. Nekateri so to dočakali ob 6.00 zjutraj, ko so spet legli nazaj v svoje postelje, drugi pa celo, še preden je letalo doseglo potovalno višino. In ZLATI spanec je najslajši, bratje Srbi ... ',\n",
       "  ['Lepo je videt tako sportno vzdusje in medsebojno spostovanje. Vec takih navijacev in manj \"drugacnih\" (ki razbijajo in se pretepajo).',\n",
       "   'hahaha zmatran',\n",
       "   'LOL, pivo dražje kot v Sloveniji. Jaz ga pijem trenutno za 0,50 €',\n",
       "   'Na youtubu lahko najdete vrsto posnetkov, kjer Slovenci in Srbi skupaj navijajo in se veselijo. Taksno navijanje, medsebojno spostovanje in prijateljsko vzdusje mi pomeni skoraj se vec od te medalje. Sicer sem proti taksnim skandiranjem, a ne morem.mimo posnetka ko eni in drugi skupaj skacejo ob pesmi: \"kdor ne skace ta je Hrvat\"',\n",
       "   'vse lepo in prav,\\nampak politikom bi pa prepovedal,da hodijo na take dogodke.\\n\\nskoraj bi kozlal ko sem videl cerarja in brnabićevo.\\n\\nprepovedat.\\noni nimajo nič skupnega z odrekanjem, znojem, borbo in medaljo.',\n",
       "   'el cartel\\n\\ns kom pa bi se potem slikali in nabirali politične točke?',\n",
       "   'kruha in iger..',\n",
       "   'el CARTEL@ tu gredo \"zasluge\" FIBI ki v morju neumnih odlocitev na vsake toliko doda se neko novo. Tak je bil protokol, epilog pa da je bilo neprijetno njim, neprijetno igralcem, navijaci pa so z zvizgi povedali svoje.\\n\\nJe pa res lepo videti skupno rajanje. Vsem bo ta izlet ostal v izjemem spominu in tovrstna finala takole dveh drzav, ki sta si blizu so prava redkost.',\n",
       "   'Popoldne je bilo tako namenjeno predvsem posedanju v senci terase in nazdravljanju s hladnim pivom - v nasprotju s hladno deževno domovino je v Turčiji namreč pošteno pripekalo sonce in termometer je kazal kar okoli 30 stopinj\\n\\nSe pravi če dobro razumem, pivo, sonce, basket, turistični ogledi in uživancija v sicet zelo osovraženi muslimanski Turčiji, ki je nihče noče v Evropi in je najbolj popljuvana država tukaj na forumu poleg Savdske Arabije,...  zanimivo,...',\n",
       "   'čestitke košarkarjem in navijačem, navijačem  pa  ker niso povročili nobenega incidenta samo navijat so šli.tu v slo pa na podeželskih nogometnik tekmah povročijo pravo razdejanje',\n",
       "   'Kaj imamo drzavljani od te kolajne?',\n",
       "   '@aktivist\\n\\nJa zlato kolajno ne....\\n;)',\n",
       "   'Adria je fino zaslužila na plečih športne evforije. Se je dalo priti z letalom tudi precej ceneje dol in nazaj, pod 200€, z le nekaj raziskovanja.',\n",
       "   'V Turčijo se namreč ne more potovati zgolj z osebno izkaznico\\n\\nTo itak.\\n\\nJe pa vseeno smešno in čudno, da ne EVROPSKO prvenstvo ne moreš z osebno :)) Mogoče slaba izbira prizorišča, ki z evropo nima nič.',\n",
       "   'Zastonj me ne spravis.',\n",
       "   'A ce ne bi smeli pit, bi sel sploh kdo?',\n",
       "   'Nas clovek, ce ga kups u lidlu je tako!',\n",
       "   'alkohol je v turčiji toliko dražji zaradi visokega davka. vodo in ostalo brezalkoholno pijačo pa dobiš praktično zastonj. še voda v dvorani je bila 50 centov, kjer bi lahko komot bila 3€...\\n\\nkdor pravi, da je adria zaslužila, se krepko moti. Turkish Airlines je letel z Boeingi 777-300, največjimi različicami za 350 folka, ki so zmeraj v eno smer letela prazna. Če bi bila to redna linija, bi kvečjemu plačali 100-120€ po smeri. Poleg tega je cena letalskih kart nizka v primerjavi z letališkimi taksami, ki ne gredo prevozniku... In ja, dalo se je poleteti tudi v zadnjem trenutku za manj kot 200€, vendar, če nisi hotel jemati vsaj v ponedeljek dopusta je bila visoka cena edina opcija.',\n",
       "   'Ne vem kako je s taksami, kot potnika me zanima samo končna cena. Mogoče tudi zato Adria počasi propada.\\n\\nPa tudi nazaj je šlo že ponoči in zjutraj delat... :)',\n",
       "   'Pa da ne začenjamo o letališču. Saj ne moreš parkirat in iti nekam na dopust za en teden, plačaš parking po 30€/dan. Na Dunaju, Budimpešti je cena okoli 3€/dan.']),\n",
       " ('Foto in video - Iz tisočerih grl v Carigradu: \"Mi, Slovenci!\"',\n",
       "  'Vredno je bilo spremljati vsako akcijo, si gristi ustnice, kričati, ploskati in se kdaj tudi jeziti. Slovenski navijači so na evropskem prvenstvu v košarki spisali pravljico, kot je ne pomnimo. Slovenija je dobra dva tedna živela s svojo košarkarsko reprezentanco. Tako kot so fantje na terenu nizali zmago za zmago, so naraščali tudi apetiti. Košarka je postala osrednja tema pogovorov v službah, šolah, v prostem času, kmalu je prerasla v navijaško evforijo, ki se je končala z vrhuncem - romanjem kar 7.000 slovenskih navijačev v 1.500 kilometrov oddaljeni Carigrad na finalno tekmo med Slovenijo in Srbijo. Slovenija je z zmago postala država z najmanj prebivalci, ki je osvojila kolajno na košarkarskem evropskem prvenstvu. A to še ni vse - 7.000 Slovencev v dvorani Sinana Erdema je pomenilo, da je bil to tudi drugi najštevilčnejši obisk slovenskih navijačev na športnih prireditvah v tujini in rekord evropskih prvenstev po podatkih Fibe. Slovenski rekord namreč še naprej drži nogometna tekma s Španijo na evropskem prvenstvu 2000 v Amsterdamu, na katero je prišlo 10.000 Slovencev, Carigrad pa je zdaj prehitel Beograd 2005, kamor je na košarkarsko tekmo z Grčijo prišlo 5.000 Slovencev. A ne le tisti, ki so na najrazličnejše načine prišli v največje turško mesto, finalno tekmo so spremljali v praktično vseh domovih, na ulicah večjih in manjših mest, ključnik #mojtim je \"gorel\" tudi na družbenih omrežjih. Košarkarska vročica je močno narasla po četrtkovi zmagi nad Španijo, ko so številni Slovenci sklenili: \"Šel bom v Carigrad, pa naj stane, kolikor hoče!\" In tako se je začelo. Letalskih vozovnic za pot v Turčijo je bilo za vse, ki bi si košarkarje želeli spodbujati v živo, veliko premalo, pa čeprav je prvo današnje letalo z letališča Jožeta Pučnika proti Carigradu vzletelo že pred peto uro zjutraj, do 11.15 pa jih je vzletelo še devet. DAN, KI NE BO ŠEL V POZABO:- Film finalne tekme- 17. september od jutra do noči v aplikaciji MMCŽivo- Utrip tekme na Kongresnem trgu v Ljubljani                             .                                                                                                                                                                  Kako se je ozračje segrevalo?Veliko navijačev ni obupalo niti po tem, ko so ostali brez letalskih vozovnic - po nekaterih podatkih se jih je z avtobusi in avtomobili na 1.500 kilometrov dolgo pot odpravilo okoli 1.000. Odlično razpoloženi navijači so že nekaj ur pred finalom zasedli carigrajske ulice, po katerih so se sprehajali v slovenskih dresih, oviti v slovenske zastave ali opremljeni z drugimi navijaškimi rekviziti. Ogrevanje pred večernim dvobojem se je za mnogo Slovencev začelo v navijaški coni, kjer je bilo slišati slovensko prepevanje in navijanje.    Pripravljeni tudi lastniki lokalovMnožičen je bil obisk tudi v številnih lokalih po Sloveniji, odprtih je bilo namreč tudi veliko takšnih, ki imajo ob nedeljah sicer zaklenjena vrata, v številnih pa so prenos tekme predvajali na velikih platnih. Največ ljudi v prestolnici se je zbralo na Kongresnem trgu, kjer zagrizenih navijačev ni motil niti dež. Pahorjeva \"zastava slavnih\" vihrala med navijači v LjubljaniV središču prestolnice v Hiši športa so prenos v prostorih lokala sicer predvajali na dveh televizijah in platnih. Potrebne so bile rezervacije, a je bilo že v petek popoldne \"zasedeno vse do vrha\", so povedali. Tam je svojo \"zastavo slavnih\" vihtel tudi predsednik republike Borut Pahor, ki se tokrat ni podal na samo prizorišče dogodka, ampak je tekmo spremljal v družbi navijačev.  Slavje se bo nadaljevalo jutri, ko v prestolnici pripravljajo uradni sprejem košarkarske reprezentance. Ta se bo začel ob 18.00 na Kongresnem trgu v Ljubljani. Vsem, ki bi si junake želeli pozdraviti v živo, Slovenske železnice ponujajo tudi brezplačne povratne vozovnice, od koder koli v Sloveniji, pogoj je le, da imate s seboj navijaški rekvizit.  Skupaj z navijači se je v Carigrad podala tudi naša novinarka Tina Hacler, ki jih je spremljala vse od letališča do dviga pokala za zmago. S prizorišča se je oglašala tudi na Twitterju.  Medtem na kongresu...#mojtim #EuroBasket2017 pic.twitter.com/cZnhVYEp7j ',\n",
       "  ['Gremo slovenski navijači. \\nPreglasite srbske navijače, naši košarkarji jih pa bodo itak utišali.',\n",
       "   'Super navijači, ampak zelo nesposobni politiki oz. funkcionarji glavnih športnih zvez (nogometne, košarkarske, rokometne, odbojkarske in hokejske), da se ne morejo poenotiti o barvi nacionalnih dresov ... Od temno modre, preko sinje modre, do temno in svetlo zelene ... Če ne bi na tribuni na vsaki tekmi videl te pisane nereprezentativne mavrice barv, bi se upal staviti, da se to normalni državi enostavno ne more zgoditi ...',\n",
       "   'Dajmo navijači. Prenesite energijo iz Slovenije na igrišče našim zlatim fantom in vice versa, da šampionsko zaključimo to EP!\\nBravo vsem, ki greste dol...\\n\\nSlovenija je z vami!',\n",
       "   'Slovenija bo zlata !!!',\n",
       "   'Slovenci pokazimo kako se navija! Mamo to!',\n",
       "   'POSTALI BOMO PRVAKI EVROPE!\\n\\nhttp://www.publishwall.si/Mike.1968./pos\\nt/122299/postali-bomo-prvaki-sveta',\n",
       "   'Uf ja Luka101, kaksna zmeda z barvami dresov. Kar od svetlo do temno zelene jih je moc videt. Pa se odtenke od svetlo do temno modre. Le kdo bi si zapomnil kar nesteto odtenkov celih dveh barv.',\n",
       "   'se popolnoma strinjam z Luko 101 in podpiram čimprejšno uvedbo enotnih dresov, kot je že omenjeno',\n",
       "   'Če se ne znajo poenotit bi tukaj morala red narediti država!\\nTako pa bom po tv gledali vsaj 3 kombinacije.\\nUpam pa da prevladuje zeleno modra.',\n",
       "   'Čestitke Hrvaški. Njihova soseda je novi evropski prvak v košarki.',\n",
       "   'alesi1\\n\\ndržava je sicer naredila red z novim zakonom o športu, a kaj ko je določba tako ohlapna, da si jo lahko prosto razlaga vsak po svoje...\\n\\n36. člen\\n\\n(nacionalne barve državne reprezentančne opreme)\\n\\nŠportnik, ki nastopa na tekmovanju uradnega tekmovalnega sistema za državno reprezentanco Republike Slovenije, na tekmovanju nosi športno oblačilo v zeleni, modri oziroma beli barvi, ki ima grb oziroma zastavo Republike Slovenije, razen če to ni v nasprotju s tekmovalnimi pravili mednarodnih športnih zvez ali s pravili Mednarodnega olimpijskega komiteja.',\n",
       "   'Cestitke KZS predvsem za VSE in tudi za sale; nismo izpadli salabajzerji.',\n",
       "   'Vse lepo in prav-najbolj me pa moti,plačevanje tv-eja in da s tem ne morem gledat svoje reprezentance-je pa največja SRAMOTA  vzgodovini moje države-Hvala vam RTV-ejovci res--kapo dol..škoda-da sploh pišete o njih.če jih ne morte prenašat-SREČNO--',\n",
       "   'Na vsakem prvenstvu se igra eno finale; ni Drugega.',\n",
       "   'Rokomet ✔\\nOdbojka ✔\\nKošarka ✔\\nNogomet ... nikoli',\n",
       "   'Vsi za enega, eden za vse!\\nSlo-veni-ja, Slo-veni-ja!',\n",
       "   'Moram priznat, da sem fovš vsem, ki boste navijali v Carigradu. Želim vam eno nepozabno doživetje.\\nVsi ostali si ga bomo pričarali doma v Sloveniji. \\nKako lepo je, da smo državljani vsaj enkrat složni. \\nI feel sLOVEnija!!!',\n",
       "   'Saj tudi vecina rtvjevcev iskreno navija za nase; problem je bil samo en novinar, ki je pred vsako tekmo potencirano poveliceval nasprotnike iz vsem 2.000.000 ljudi neznanega razloga, da bi to kao negativisticno vplivalo na nas.',\n",
       "   'Smešni so mi tisti, ki govorijo, da bosta v finalu dve Srbiji!',\n",
       "   'Kam se splača it gledat na mobali?'])]"
      ]
     },
     "execution_count": 13,
     "metadata": {},
     "output_type": "execute_result"
    }
   ],
   "source": [
    "urls = get_urls(\"doncic\", 1)\n",
    "parsed_news = []\n",
    "for url in urls:\n",
    "    parsed, title, comments = parse_url(url)\n",
    "    if parsed != \"\":\n",
    "        parsed_news.append((title, parsed, comments))\n",
    "parsed_news"
   ]
  },
  {
   "cell_type": "markdown",
   "metadata": {},
   "source": [
    "Zapišemo v datoteko."
   ]
  },
  {
   "cell_type": "code",
   "execution_count": 14,
   "metadata": {
    "collapsed": true
   },
   "outputs": [],
   "source": [
    "def write_to_file():\n",
    "    f = open(\"../data/novice_doncic.txt\", \"w\", encoding=\"utf-8\")\n",
    "    for title, parsed, comments in parsed_news:\n",
    "        f.write(title + \"\\n\")\n",
    "        f.write(parsed + \"\\n\")\n",
    "        for c in comments:\n",
    "            if c.replace(\"\\n\", \"\") == \"\":\n",
    "                continue\n",
    "            f.write(c.replace(\"\\n\", \" \") + \"\\n\")\n",
    "        f.write(\"\\n\")"
   ]
  },
  {
   "cell_type": "code",
   "execution_count": 15,
   "metadata": {
    "collapsed": true
   },
   "outputs": [],
   "source": [
    "write_to_file()"
   ]
  },
  {
   "cell_type": "code",
   "execution_count": null,
   "metadata": {
    "collapsed": true
   },
   "outputs": [],
   "source": []
  }
 ],
 "metadata": {
  "kernelspec": {
   "display_name": "Python 3",
   "language": "python",
   "name": "python3"
  },
  "language_info": {
   "codemirror_mode": {
    "name": "ipython",
    "version": 3
   },
   "file_extension": ".py",
   "mimetype": "text/x-python",
   "name": "python",
   "nbconvert_exporter": "python",
   "pygments_lexer": "ipython3",
   "version": "3.6.2"
  }
 },
 "nbformat": 4,
 "nbformat_minor": 2
}
