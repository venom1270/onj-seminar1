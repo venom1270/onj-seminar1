{
 "cells": [
  {
   "cell_type": "markdown",
   "metadata": {},
   "source": [
    "# Osnovni parser Rtvslo.si novic"
   ]
  },
  {
   "cell_type": "markdown",
   "metadata": {},
   "source": [
    "Importamo potrebne knjižnice."
   ]
  },
  {
   "cell_type": "code",
   "execution_count": null,
   "metadata": {
    "collapsed": true
   },
   "outputs": [],
   "source": [
    "import nltk\n",
    "from urllib.request import urlopen\n",
    "from bs4 import BeautifulSoup"
   ]
  },
  {
   "cell_type": "markdown",
   "metadata": {},
   "source": [
    "Spodaj je funkcija, ki prejme url in vrne sprasano telo novice."
   ]
  },
  {
   "cell_type": "code",
   "execution_count": null,
   "metadata": {
    "collapsed": true
   },
   "outputs": [],
   "source": [
    "def parse_url(url):\n",
    "    html = urlopen(url).read() \n",
    "    soup = BeautifulSoup(html, 'html.parser')\n",
    "    newsContents = soup.find_all(\"div\", id=\"newsbody\")[0].find_all(\"p\")\n",
    "    parsed = \"\"\n",
    "    for p in newsContents: \n",
    "        parsed += p.get_text() + \" \"\n",
    "    return parsed"
   ]
  },
  {
   "cell_type": "markdown",
   "metadata": {},
   "source": [
    "Test klica funkcije."
   ]
  },
  {
   "cell_type": "code",
   "execution_count": null,
   "metadata": {
    "collapsed": true,
    "scrolled": false
   },
   "outputs": [],
   "source": [
    "parse_url(\"http://www.rtvslo.si/svet/bliznji-vzhod/smrt-ameriki-iranci-protestirajo-proti-novim-sankcijam/470795\")"
   ]
  },
  {
   "cell_type": "markdown",
   "metadata": {},
   "source": [
    "Definiramo seznam novic, ki bi jih radi sparsali.\n",
    "\n",
    "Za vsako novico kličemo zgoraj napisano metodo."
   ]
  },
  {
   "cell_type": "code",
   "execution_count": null,
   "metadata": {
    "collapsed": true
   },
   "outputs": [],
   "source": [
    "urls = [\"http://www.rtvslo.si/svet/s-in-j-amerika/trump-bi-prebeznikom-preprecil-vstop-v-zda-kar-z-izvrsnim-ukazom/470009\",\n",
    "       \"http://www.rtvslo.si/svet/s-in-j-amerika/trump-po-bombnih-posiljkah-poudarja-medijsko-sovraznost-paket-tudi-de-niru-in-bidnu/469952\",\n",
    "       \"http://www.rtvslo.si/svet/s-in-j-amerika/trump-govori-o-invaziji-na-zda-in-na-mejo-posilja-5-200-vojakov/470369\",\n",
    "       \"http://www.rtvslo.si/svet/s-in-j-amerika/trump-kljub-nasprotovanju-obiskal-prizorisce-strelskega-napada-v-pittsburghu/470503\",\n",
    "       \"http://www.rtvslo.si/svet/s-in-j-amerika/fbi-v-povezavi-z-bombnimi-posiljkami-trumpovim-kritikom-aretiral-osumljenca/470029\"]\n",
    "\n",
    "parsed_news = []\n",
    "for url in urls:\n",
    "    parsed_news.append(parse_url(url))\n",
    "parsed_news"
   ]
  },
  {
   "cell_type": "code",
   "execution_count": null,
   "metadata": {
    "collapsed": true
   },
   "outputs": [],
   "source": []
  }
 ],
 "metadata": {
  "kernelspec": {
   "display_name": "Python 3",
   "language": "python",
   "name": "python3"
  },
  "language_info": {
   "codemirror_mode": {
    "name": "ipython",
    "version": 3
   },
   "file_extension": ".py",
   "mimetype": "text/x-python",
   "name": "python",
   "nbconvert_exporter": "python",
   "pygments_lexer": "ipython3",
   "version": "3.6.2"
  }
 },
 "nbformat": 4,
 "nbformat_minor": 2
}
