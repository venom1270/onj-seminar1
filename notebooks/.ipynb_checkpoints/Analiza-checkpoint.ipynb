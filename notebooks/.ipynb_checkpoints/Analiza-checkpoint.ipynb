{
 "cells": [
  {
   "cell_type": "code",
   "execution_count": null,
   "metadata": {
    "collapsed": true
   },
   "outputs": [],
   "source": [
    "import nltk\n",
    "from bs4 import BeautifulSoup"
   ]
  },
  {
   "cell_type": "markdown",
   "metadata": {},
   "source": [
    "## Branje podatkov"
   ]
  },
  {
   "cell_type": "code",
   "execution_count": null,
   "metadata": {
    "collapsed": true
   },
   "outputs": [],
   "source": [
    "def read_from_file():\n",
    "    data = []\n",
    "    f = open(\"../data/novice.txt\", \"r\", encoding=\"utf-8\")\n",
    "    title = \"\"\n",
    "    body = \"\"\n",
    "    comments = []\n",
    "    for line in f:\n",
    "        line = line.replace(\"\\n\", \"\")\n",
    "        if line == \"\":\n",
    "            data.append( (title, body, comments) )\n",
    "            title = \"\"\n",
    "            body = \"\"\n",
    "            comments = []\n",
    "        elif title == \"\":\n",
    "            title = line\n",
    "        elif body == \"\":\n",
    "            body = line\n",
    "        else:\n",
    "            comments.append(line)\n",
    "    return data"
   ]
  },
  {
   "cell_type": "code",
   "execution_count": null,
   "metadata": {},
   "outputs": [],
   "source": [
    "news = read_from_file()"
   ]
  },
  {
   "cell_type": "markdown",
   "metadata": {},
   "source": [
    "## Lematizacija"
   ]
  },
  {
   "cell_type": "markdown",
   "metadata": {},
   "source": [
    "Klic programa za lematizacijo. Lematiziramo naslove, telo novic in komentarje.\n",
    "\n",
    "0: uspešno\n",
    "\n",
    "1: neuspešno"
   ]
  },
  {
   "cell_type": "code",
   "execution_count": null,
   "metadata": {},
   "outputs": [],
   "source": [
    "import os\n",
    "f_title = open(\"../ObeliksLatest/in_title.txt\", \"w\", encoding=\"utf-8\")\n",
    "f_body = open(\"../ObeliksLatest/in_body.txt\", \"w\", encoding=\"utf-8\")\n",
    "f_comment = open(\"../ObeliksLatest/in_comment.txt\", \"w\", encoding=\"utf-8\")\n",
    "for n in news:\n",
    "    f_title.write(n[0] + \"\\n\\n\")\n",
    "    f_body.write(n[1] + \"\\n\\n\")\n",
    "    for c in n[2]:\n",
    "        f_comment.write(c + \"\\n\\n\")\n",
    "    f_comment.write(\"DELIMITER\\n\\n\")\n",
    "f_title.close()\n",
    "f_body.close()\n",
    "f_comment.close()\n",
    "os.chdir(\"../ObeliksLatest\")\n",
    "os.system(\"PosTaggerTag -lem:LemmatizerModel.bin -v -o -t in_title.txt TaggerModel.bin out_title.xml\")\n",
    "os.system(\"PosTaggerTag -lem:LemmatizerModel.bin -v -o -t in_body.txt TaggerModel.bin out_body.xml\")\n",
    "os.system(\"PosTaggerTag -lem:LemmatizerModel.bin -v -o -t in_comment.txt TaggerModel.bin out_comment.xml\")"
   ]
  },
  {
   "cell_type": "markdown",
   "metadata": {},
   "source": [
    "Branje lematiziranih besed."
   ]
  },
  {
   "cell_type": "code",
   "execution_count": null,
   "metadata": {},
   "outputs": [],
   "source": [
    "def read_lemmatized(path):\n",
    "    f  = open(path, \"r\", encoding=\"utf-8\").read()\n",
    "    soup = BeautifulSoup(f, \"lxml\")\n",
    "    lemmatized = []\n",
    "    lemmas = soup.find_all(\"p\")\n",
    "    for i in range(0, len(lemmas), 1):\n",
    "        lem = []\n",
    "        for l in lemmas[i].find_all(\"w\"):\n",
    "            lem.append(l[\"lemma\"])\n",
    "        lemmatized.append(lem)\n",
    "    #print(lemmatized)\n",
    "    result = []\n",
    "    for news in lemmatized:\n",
    "        result.append(\" \".join([str(x) for x in news]))\n",
    "    return result\n",
    "\n",
    "def read_lemmatized_comments(path):\n",
    "    f  = open(path, \"r\", encoding=\"utf-8\").read()\n",
    "    soup = BeautifulSoup(f, \"lxml\")\n",
    "    result = []\n",
    "    lemmatized = []\n",
    "    lemmas = soup.find_all(\"p\")\n",
    "    for i in range(0, len(lemmas), 1):\n",
    "        lem = \"\"\n",
    "        skip = False\n",
    "        for l in lemmas[i].find_all(\"w\"):\n",
    "            #print(l[\"lemma\"])\n",
    "            if l[\"lemma\"].lower() == \"delimiter\":\n",
    "                result.append(lemmatized)\n",
    "                lemmatized = []\n",
    "                skip = True\n",
    "            else:\n",
    "                lem += l[\"lemma\"] + \" \"\n",
    "        if skip:\n",
    "            skip = False\n",
    "        else:\n",
    "            lemmatized.append(lem)\n",
    "    return result\n",
    "\n",
    "titles_lemmatized = read_lemmatized(\"../ObeliksLatest/out_title.xml\")\n",
    "body_lemmatized = read_lemmatized(\"../ObeliksLatest/out_body.xml\")\n",
    "comments_lemmatized = read_lemmatized_comments(\"../ObeliksLatest/out_comment.xml\")\n",
    "print(len(titles_lemmatized))\n",
    "print(len(body_lemmatized))\n",
    "print(len(comments_lemmatized))"
   ]
  },
  {
   "cell_type": "markdown",
   "metadata": {},
   "source": [
    "## Clustering"
   ]
  },
  {
   "cell_type": "code",
   "execution_count": null,
   "metadata": {
    "collapsed": true
   },
   "outputs": [],
   "source": [
    "import re\n",
    "def tokenize(text):\n",
    "    # First tokenize by sentence, then by word to ensure that punctuation is caught as it's own token.\n",
    "    tokens = [word.lower() for sent in nltk.sent_tokenize(text) for word in nltk.word_tokenize(sent)]\n",
    "    filtered_tokens = []\n",
    "    # Filter out any tokens not containing letters (e.g., numeric tokens, raw punctuation).\n",
    "    for token in tokens:\n",
    "        if re.search('[a-zA-Z]', token):\n",
    "            filtered_tokens.append(token)\n",
    "    return filtered_tokens"
   ]
  },
  {
   "cell_type": "code",
   "execution_count": null,
   "metadata": {
    "collapsed": true
   },
   "outputs": [],
   "source": [
    "def character_ngram(text):\n",
    "    n = 3\n",
    "    result = []\n",
    "    text = text.lower().replace(\".\", \"\").replace(\",\", \"\").replace(\"?\", \"\").replace(\"!\",\"\")\n",
    "    #text = text.replace(\" \", \"\")\n",
    "    for i in range(len(text)-n+1):\n",
    "        result.append(text[i:i+n])\n",
    "    return result"
   ]
  },
  {
   "cell_type": "code",
   "execution_count": null,
   "metadata": {},
   "outputs": [],
   "source": [
    "text = \"Janez si umiva zobe. Potem pa bo šel gledat risanke. Mislim, da je na sporedu čarobni Bakugan iz vesolja.\"\n",
    "#tokenize(text)\n",
    "character_ngram(text)"
   ]
  },
  {
   "cell_type": "code",
   "execution_count": null,
   "metadata": {},
   "outputs": [],
   "source": [
    "from sklearn.feature_extraction.text import TfidfVectorizer\n",
    "\n",
    "# Define vectorizer parameters\n",
    "tfidf_vectorizer = TfidfVectorizer(\n",
    "                        max_df=0.8, \n",
    "                        max_features=200000,\n",
    "                        min_df=0.2, \n",
    "                        stop_words='english', \n",
    "                        use_idf=True, \n",
    "                        tokenizer=character_ngram, \n",
    "                        ngram_range=(1,3))\n",
    "\n",
    "# Fit the vectorizer to synopses texts\n",
    "news_titles = [title for title,_,_ in news]\n",
    "#for news in lemmatized:\n",
    "#    news_text.append(\" \".join([str(x) for x in news]))\n",
    "\n",
    "%time tfidf_matrix = tfidf_vectorizer.fit_transform(body_lemmatized) \n",
    "\n",
    "print(\"TF-IDF matrix shape: {}\".format(tfidf_matrix.shape))\n",
    "print(tfidf_matrix)"
   ]
  },
  {
   "cell_type": "code",
   "execution_count": null,
   "metadata": {},
   "outputs": [],
   "source": [
    "from sklearn.metrics.pairwise import cosine_similarity\n",
    "dist = 1 - cosine_similarity(tfidf_matrix)\n",
    "dist"
   ]
  },
  {
   "cell_type": "code",
   "execution_count": null,
   "metadata": {},
   "outputs": [],
   "source": [
    "from sklearn.cluster import KMeans\n",
    "\n",
    "num_clusters = 3\n",
    "km = KMeans(n_clusters=num_clusters)\n",
    "\n",
    "# Perform clustering\n",
    "%time km.fit(tfidf_matrix)\n",
    "\n",
    "clusters = km.labels_.tolist()\n",
    "print(news_titles)\n",
    "print(\"Clusters: {}\".format(clusters))"
   ]
  },
  {
   "cell_type": "code",
   "execution_count": null,
   "metadata": {},
   "outputs": [],
   "source": [
    "from scipy.cluster.hierarchy import ward, dendrogram\n",
    "import matplotlib.pyplot as plt\n",
    "\n",
    "# Define the linkage_matrix using ward clustering pre-computed distances.\n",
    "linkage_matrix = ward(dist) \n",
    "\n",
    "fig, ax = plt.subplots(figsize=(15, 20)) # set size\n",
    "ax = dendrogram(linkage_matrix, orientation=\"right\", labels=news_titles);\n",
    "\n",
    "plt.tick_params(\\\n",
    "    axis= 'x',         # changes apply to the x-axis\n",
    "    which='both',      # both major and minor ticks are affected\n",
    "    bottom='off',      # ticks along the bottom edge are off\n",
    "    top='off',         # ticks along the top edge are off\n",
    "    labelbottom='off')\n",
    "\n",
    "plt.tight_layout() #show plot with tight layout\n",
    "\n",
    "# Uncomment the below to show or save the plot.\n",
    "plt.show()\n",
    "#plt.savefig('ward_clusters.png', dpi=200) #save figure as ward_clusters\n",
    "plt.close()"
   ]
  },
  {
   "cell_type": "code",
   "execution_count": null,
   "metadata": {
    "collapsed": true
   },
   "outputs": [],
   "source": []
  }
 ],
 "metadata": {
  "kernelspec": {
   "display_name": "Python 3",
   "language": "python",
   "name": "python3"
  },
  "language_info": {
   "codemirror_mode": {
    "name": "ipython",
    "version": 3
   },
   "file_extension": ".py",
   "mimetype": "text/x-python",
   "name": "python",
   "nbconvert_exporter": "python",
   "pygments_lexer": "ipython3",
   "version": "3.6.2"
  }
 },
 "nbformat": 4,
 "nbformat_minor": 2
}
