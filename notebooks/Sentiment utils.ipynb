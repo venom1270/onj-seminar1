{
 "cells": [
  {
   "cell_type": "markdown",
   "metadata": {},
   "source": [
    "## Podporne metode za pripravo datotek s pozitivnimi/negativnimi besedami"
   ]
  },
  {
   "cell_type": "code",
   "execution_count": null,
   "metadata": {
    "collapsed": true
   },
   "outputs": [],
   "source": [
    "import os\n",
    "def read_words(path):\n",
    "    result = []\n",
    "    f = open(path, \"r\", encoding=\"utf-8\")\n",
    "    for line in f:\n",
    "        result.append(line.replace(\"\\n\", \"\"))\n",
    "    os.chdir(\"../ObeliksLatest\")\n",
    "    #print(\"PosTaggerTag -lem:LemmatizerModel.bin -v -o -t \" + path.split(\"ObeliksLatest/\")[1] + \" TaggerModel.bin out.xml\")\n",
    "    os.system(\"PosTaggerTag -lem:LemmatizerModel.bin -v -o -t \" + path.split(\"ObeliksLatest/\")[1] + \" TaggerModel.bin out.xml\")\n",
    "    # Also lemmatize those words and include them in result\n",
    "    lem = read_lemmatized(\"../ObeliksLatest/out.xml\")\n",
    "        \n",
    "    return result+lem\n",
    "\n",
    "positive_words = read_words(\"../ObeliksLatest/Sentiment/pozitivni_original_novi_expanded.txt\") \n",
    "negative_words = read_words(\"../ObeliksLatest/Sentiment/negativni_original_novi_expanded.txt\")\n",
    "\n",
    "for w in positive_words:\n",
    "    if w in negative_words:\n",
    "        print(w)"
   ]
  },
  {
   "cell_type": "code",
   "execution_count": null,
   "metadata": {
    "collapsed": true
   },
   "outputs": [],
   "source": [
    "#CLEANING DUPLICATES\n",
    "#Delete from 1-negative 2-positive 3-both\n",
    "duplicates = []\n",
    "for w in positive_words:\n",
    "    if w in negative_words:\n",
    "        print(w)\n",
    "        a = input()\n",
    "        duplicates.append((w, a))"
   ]
  },
  {
   "cell_type": "code",
   "execution_count": null,
   "metadata": {
    "collapsed": true
   },
   "outputs": [],
   "source": [
    "f = open(\"qwe.txt\", \"w\", encoding=\"utf-8\")\n",
    "for w, a in duplicates:\n",
    "    f.write(w + \" \" + a + \"\\n\")"
   ]
  },
  {
   "cell_type": "code",
   "execution_count": null,
   "metadata": {
    "collapsed": true
   },
   "outputs": [],
   "source": [
    "w = []\n",
    "a = []\n",
    "for i,j in duplicates:\n",
    "    w.append(i)\n",
    "    a.append(j)"
   ]
  },
  {
   "cell_type": "code",
   "execution_count": null,
   "metadata": {
    "collapsed": true
   },
   "outputs": [],
   "source": [
    "positive = []\n",
    "f = open(\"Sentiment/pozitivni_original_novi_expanded.txt\", \"r\", encoding=\"utf-8\")\n",
    "for line in f:\n",
    "    line = line.replace(\"\\n\", \"\")\n",
    "    if line in w:\n",
    "        i = w.index(line)\n",
    "        if a[i] != 1:\n",
    "            continue\n",
    "    positive.append(line)\n",
    "f.close()\n",
    "\n",
    "negative = []\n",
    "f = open(\"Sentiment/negativni_original_novi_expanded.txt\", \"r\", encoding=\"utf-8\")\n",
    "for line in f:\n",
    "    line = line.replace(\"\\n\", \"\")\n",
    "    if line in w:\n",
    "        i = w.index(line)\n",
    "        if a[i] != 2:\n",
    "            continue\n",
    "    negative.append(line)\n",
    "f.close()\n",
    "#print(negative)\n",
    "\n",
    "f = open(\"Sentiment/pozitivni_clean.txt\", \"w\", encoding=\"utf-8\")\n",
    "for p in positive:\n",
    "    f.write(p + \"\\n\")\n",
    "f.close()\n",
    "f = open(\"Sentiment/negativni_clean.txt\", \"w\", encoding=\"utf-8\")\n",
    "for p in negative:\n",
    "    f.write(p + \"\\n\")\n",
    "f.close()"
   ]
  }
 ],
 "metadata": {
  "kernelspec": {
   "display_name": "Python 3",
   "language": "python",
   "name": "python3"
  },
  "language_info": {
   "codemirror_mode": {
    "name": "ipython",
    "version": 3
   },
   "file_extension": ".py",
   "mimetype": "text/x-python",
   "name": "python",
   "nbconvert_exporter": "python",
   "pygments_lexer": "ipython3",
   "version": "3.6.2"
  }
 },
 "nbformat": 4,
 "nbformat_minor": 2
}
